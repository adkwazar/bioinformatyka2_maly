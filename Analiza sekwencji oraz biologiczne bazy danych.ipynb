{
 "cells": [
  {
   "cell_type": "markdown",
   "metadata": {},
   "source": [
    "<h2> Bioinformatyka2 - kurs mały. Ćwiczenie1"
   ]
  },
  {
   "cell_type": "markdown",
   "metadata": {},
   "source": [
    "W poniższym ćwiczeniu poznamy wybrane metody związane z analizą sekwencji oraz biologicznymi bazami danych. Część zadań będzie zrealizowana przy pomocy języka Python. Jeżeli chcemy wykonać jakiś skrypt, to zapisujemy go do pliku tekstowego z rozszerzeniem .py a następnie odpalamy w Terminalu wg: \n",
    "\n",
    "<h4><center> python3 przyklad.py</center></h4>\n",
    "\n",
    "Niektóre fragmenty kodu wymagają pewnych bibliotek, należy je zamieścić na początku kodu. Najważniejsze z nich:"
   ]
  },
  {
   "cell_type": "code",
   "execution_count": 1,
   "metadata": {},
   "outputs": [],
   "source": [
    "import numpy as np #biblioteka do operacji na wektorach, macierzach, funkcje matematyczne itd..\n",
    "import matplotlib.pyplot as plt #biblioteka do rysowania\n",
    "import random as r #modul do generowania liczb losowych itp"
   ]
  },
  {
   "cell_type": "markdown",
   "metadata": {},
   "source": [
    "<h3> Entropia"
   ]
  },
  {
   "cell_type": "markdown",
   "metadata": {},
   "source": [
    "Entropia (w teorii informacji) - średnia ważona ilości informacji niesionej przez pojedynczą wiadomość, gdzie wagami są prawdopodobieństwa nadania poszczególnych wiadomości (Shannon, 1948):\n",
    "\n",
    "\n",
    "<h1><center>$ H = -\\sum_i p_i \\log_2 p_i$</center></h1>"
   ]
  },
  {
   "cell_type": "markdown",
   "metadata": {},
   "source": [
    "Zacznijmy od przypadku rzutu monetą. Tutaj są dwa możliwe stany  - orzeł (O) lub reszka (R). Niech $p$ oznacza prawdopodobieństwo wyrzucenia orła. Wtedy $1-p$ opisuje prawdopodobieństwo wyrzucenia reszki."
   ]
  },
  {
   "cell_type": "code",
   "execution_count": 2,
   "metadata": {},
   "outputs": [
    {
     "data": {
      "image/png": "[encoded data removed]",
      "text/plain": [
       "<Figure size 432x288 with 1 Axes>"
      ]
     },
     "metadata": {
      "needs_background": "light"
     },
     "output_type": "display_data"
    }
   ],
   "source": [
    "#przetestujemy kilka wartosci p i zobaczymy jak to wplywa na wartosc entropii\n",
    "p = np.linspace(0.001,0.999,50) #będze sprawdzal rozne wartosci prawdopodobienstwa: od 0.001 do 0.999, 50 wartosci\n",
    "h = -(p*np.log2(p)+(1-p)*np.log2(1-p)) #wzor na entropię w przypadku 2 stanow\n",
    "\n",
    "plt.plot(p,h) #rysuje zaleznosc h od p\n",
    "plt.xlabel(\"probability\") #opis osi OX\n",
    "plt.ylabel(\"Entropy\") #opis osi OY\n",
    "plt.show()"
   ]
  },
  {
   "cell_type": "markdown",
   "metadata": {},
   "source": [
    "<h4> Przykład: Dana jest sekwencja nukleotydowa. Tutaj mamy do czyniania z 4 różnymi stanami (nukleotydy). Niech $p_A$, $p_G$, $p_C$ oraz $p_T$ oznaczają kolejno prawdopodobieństwo wystąpienia $A,G,C$ oraz $T$. Jaka jest maksymalna i minimalna wartość entropii w tym przypadku? Jakim sytuacjom to odpowiada?"
   ]
  },
  {
   "cell_type": "markdown",
   "metadata": {},
   "source": [
    "<h3><center>$ H = -(\\frac{1}{4} \\log_2 \\frac{1}{4}+\\frac{1}{4} \\log_2 \\frac{1}{4}+\\frac{1}{4} \\log_2 \\frac{1}{4}+\\frac{1}{4} \\log_2 \\frac{1}{4}) = 2$</center></h3>  (maksymalna niepewność)"
   ]
  },
  {
   "cell_type": "code",
   "execution_count": 3,
   "metadata": {},
   "outputs": [
    {
     "name": "stdout",
     "output_type": "stream",
     "text": [
      "2.0\n"
     ]
    }
   ],
   "source": [
    "H = -(1/4*np.log2(1/4)+1/4*np.log2(1/4)+1/4*np.log2(1/4)+1/4*np.log2(1/4))\n",
    "print(H)"
   ]
  },
  {
   "cell_type": "markdown",
   "metadata": {},
   "source": [
    "<h3><center>$ H = -(1 \\log_2 1+0 \\log_2 0+0 \\log_2 0+0 \\log_2 0 ) = 0$</center></h3>\n",
    "\n",
    "(brak niepewności)"
   ]
  },
  {
   "cell_type": "markdown",
   "metadata": {},
   "source": [
    "Przyjmując $0\\log_20 = 0$ (jest to uzasadnione bo $x\\log_2x \\rightarrow 0$ gdy $x \\rightarrow 0^+$) mamy $H = 0$ (brak niepewności)."
   ]
  },
  {
   "cell_type": "markdown",
   "metadata": {},
   "source": [
    "<h4> Zadanie1: Wyznacz maksymalną i minimalną wartość entropii dla sekwencji aminokwasowych. Wyjaśnij jakiego typu sekwencjom odpowiadają te wartości?"
   ]
  },
  {
   "cell_type": "markdown",
   "metadata": {},
   "source": [
    "Logo sekwencji stanowi graficzna prezentacja podsumowania dopasowania wielosekwencyjnego. Zawiera informacje o częstości reszt na każdej pozycji oraz ich konserwatywności. Częstość reszt przedstawia wzajemna relacja wysokości liter, natomiast konserwatywność prezentowana jest jako różnica entropii maksymalnej oraz entropi uzyskanej dla danej pozycji."
   ]
  },
  {
   "cell_type": "markdown",
   "metadata": {},
   "source": [
    "<h4> Zadanie2. Będziemy analizować 16 sekwencji proteaz bakteryjnych. Centrum katalityczne tych proteaz obejmuje 3 reszty aminokwasowe: serynę (S), histydynę (H) i kwas asparaginowy (D).\n",
    "\n",
    "- Wykonaj dopasowanie tych sekwencji (https://www.ebi.ac.uk/Tools/msa/clustalo/)\n",
    "\n",
    "- Uzyskane dopasowanie wykorzystaj do wygenerowania tzw. logo sekwencji. (http://weblogo.threeplusone.com/create.cgi)\n",
    "    \n",
    "- W bazie UniProt (https://www.uniprot.org/) wyszukaj tę sekwencję Q9AER6 (po ID) i odszukaj miejsca występowania 3 reszt z centrum katalitycznego. Zlokalizuj je na dopasowaniu wszystkich 16 sekwencji - na dopasowaniu oraz/lub logo. Czy w przypadku pozostałych sekwencji obserwujemy konserwatywność na tych pozycjach?\n",
    "\n",
    "- Na podstawie dopasowania sekwencji i/lub wygenerowanego logo, podaj potencjalne miejsca występowania tych reszt dla F4HL71. Porównaj te wyniki z informacjami w bazie UniProt. Skomentuj otrzymane wyniki.\n",
    "    "
   ]
  },
  {
   "cell_type": "markdown",
   "metadata": {},
   "source": [
    "<h3> Badanie składu i szukanie wzorców w sekwencjach biologicznych"
   ]
  },
  {
   "cell_type": "markdown",
   "metadata": {},
   "source": [
    "- Generowanie losowych sekwencji "
   ]
  },
  {
   "cell_type": "code",
   "execution_count": 4,
   "metadata": {},
   "outputs": [
    {
     "name": "stdout",
     "output_type": "stream",
     "text": [
      "TAGTGTTACC\n"
     ]
    }
   ],
   "source": [
    "def textGenerator(length, dist={'A':0.25, 'C':0.25,'G':0.25,'T':0.25}):\n",
    "    '''Funkcja zwraca losowa sekwencje o zadanej dlugosci i zadanej czestosci liter alfabetu'''\n",
    "    distT = []\n",
    "    h = 0\n",
    "    for (k, v) in dist.items():\n",
    "        h += v\n",
    "        distT.append((k,h))\n",
    "    s = ''\n",
    "    for x in range(length):\n",
    "        ran = r.random()\n",
    "        for k,v in distT:\n",
    "            if ran <= v:\n",
    "                s+=k\n",
    "                break\n",
    "    return s\n",
    "\n",
    "#przyklad\n",
    "seq = textGenerator(10)\n",
    "print(seq)"
   ]
  },
  {
   "cell_type": "code",
   "execution_count": 5,
   "metadata": {},
   "outputs": [
    {
     "name": "stdout",
     "output_type": "stream",
     "text": [
      "CGCTTGAAGGGCGGTTTGTACCGGACCCCTCTGCCTCTCCTAGGCGGGCGGGACCGCCGCGGAAAACGACCCCCGAGCGAGAATTGTAGTGCCCCTTGAC\n"
     ]
    }
   ],
   "source": [
    "#Bieżący nukleotyd jest zależny od wcześniejszego (model Markowa rzędu 1):\n",
    "\n",
    "def random2(length, nuc, firstN, trans):\n",
    "    '''Funkcja zwraca losowa sekwencje o zadanej dlugosci i zadanej macierzy przejsc'''\n",
    "    s_losowa = ''\n",
    "    for i in range(length):\n",
    "        if i>0:\n",
    "            s_losowa+=np.random.choice(nuc, 1, p=trans[s_losowa[-1]])[0]\n",
    "        else:\n",
    "            s_losowa+=np.random.choice(nuc, 1, p=firstN)[0]\n",
    "    return s_losowa\n",
    "\n",
    "\n",
    "\n",
    "## przyklad\n",
    "nuc = [\"A\",\"C\",\"G\",\"T\"]\n",
    "trans = {} #macierz przejsc\n",
    "\n",
    "#              \"A\",  \"C\",  \"G\",  \"T\"\n",
    "trans['A'] = [0.25, 0.25, 0.25, 0.25]\n",
    "trans['C'] = [ 0.0,  1/3,  1/3,  1/3]\n",
    "trans['G'] = [0.25, 0.25, 0.25, 0.25]\n",
    "trans['T'] = [0.25, 0.25, 0.25, 0.25]\n",
    "\n",
    "firstN = [0.25, 0.25, 0.25, 0.25] #piewszy nukleotyd będzie zupelnie losowy\n",
    "\n",
    "#przyklad\n",
    "seq = random2(100, nuc, firstN, trans)\n",
    "print(seq)"
   ]
  },
  {
   "cell_type": "markdown",
   "metadata": {},
   "source": [
    " - Proste statystyki dla sekwencji"
   ]
  },
  {
   "cell_type": "code",
   "execution_count": 6,
   "metadata": {},
   "outputs": [],
   "source": [
    "#Wyznaczanie częstosci nukleotydów i dinukleotydów dla zadanej sekwencji \n",
    "\n",
    "seq='TGACCCCGGTTAAGAGCTAAGATCGCTTTAGGCGTTGGCGAAGTATCCTCTACGTCCTTCGGGAGAAAAGCTGTAGAGGTATCGCTTACTGATTGACTCC'\n",
    "\n",
    "letters = {'A':0, 'C':0, 'G':0, 'T':0}\n",
    "diplets = {'AG':0, 'GA':0, 'CA':0, 'AC':0, 'GC':0, 'CG':0, 'TA':0,'AT':0,'TG':0, 'GT':0,'CT':0,'TC':0, 'AA':0, 'CC':0, 'GG':0, 'TT':0}\n",
    "\n",
    "n = len(seq)-1\n",
    "for i in range(n):\n",
    "    letters[seq[i]]+=1\n",
    "    diplets[seq[i:(i+2)]]+=1\n",
    "letters[seq[n]]+=1\n",
    "\n",
    "\n",
    "sumL = sum(letters.values())\n",
    "norL = {k:v/sumL for k,v in letters.items()}\n",
    "sumD = sum(diplets.values())\n",
    "norD = {k:v/sumD for k,v in diplets.items()}"
   ]
  },
  {
   "cell_type": "code",
   "execution_count": 7,
   "metadata": {},
   "outputs": [
    {
     "data": {
      "image/png": "[encoded data removed]",
      "text/plain": [
       "<Figure size 432x288 with 1 Axes>"
      ]
     },
     "metadata": {
      "needs_background": "light"
     },
     "output_type": "display_data"
    }
   ],
   "source": [
    "#wizuzalizacja dla nukleotydow\n",
    "\n",
    "height_norL = norL.values()\n",
    "bars = norL.keys()\n",
    "y_pos = np.arange(len(bars))\n",
    "plt.bar(y_pos, height_norL,color=\"red\")\n",
    "plt.xticks(y_pos, bars)\n",
    "plt.show()"
   ]
  },
  {
   "cell_type": "code",
   "execution_count": 8,
   "metadata": {},
   "outputs": [
    {
     "data": {
      "image/png": "[encoded data removed]",
      "text/plain": [
       "<Figure size 432x288 with 1 Axes>"
      ]
     },
     "metadata": {
      "needs_background": "light"
     },
     "output_type": "display_data"
    }
   ],
   "source": [
    "#wizuzalizacja dla dinukleotydow\n",
    "height_norD = norD.values()\n",
    "bars = norD.keys()\n",
    "y_pos = np.arange(len(bars))\n",
    "plt.bar(y_pos, height_norD,color=\"red\")\n",
    "plt.xticks(y_pos, bars)\n",
    "plt.show()"
   ]
  },
  {
   "cell_type": "markdown",
   "metadata": {},
   "source": [
    "- Reprezentacja gry chaosu"
   ]
  },
  {
   "cell_type": "code",
   "execution_count": 9,
   "metadata": {},
   "outputs": [],
   "source": [
    "def CGR(seq):\n",
    "    '''Funkcja wyznacza tzw. reprezentację gry chaosu dla danej sekwencji'''\n",
    "    d = np.array([0.5,0.5])\n",
    "    nt= [\"A\",\"C\",\"G\",\"T\"]\n",
    "    coordinates = np.array([[0,0],[0,1],[1,0],[1,1]])\n",
    "    sequence = []\n",
    "    for i in range(len(seq)):\n",
    "        x=0.5*(d[len(d)-1]+coordinates[nt.index(seq[i])])\n",
    "        sequence.append((x[0],x[1]))\n",
    "        d = np.vstack((d, x))\n",
    "    return np.array(sequence)"
   ]
  },
  {
   "cell_type": "code",
   "execution_count": 10,
   "metadata": {},
   "outputs": [
    {
     "data": {
      "image/png": "[encoded data removed]",
      "text/plain": [
       "<Figure size 360x360 with 1 Axes>"
      ]
     },
     "metadata": {
      "needs_background": "light"
     },
     "output_type": "display_data"
    }
   ],
   "source": [
    "#przykladowe wywolanie tej funkcji i wizualizacja\n",
    "\n",
    "seq = \"ATGCC\"\n",
    "p1 = CGR(seq) #wykorzystuje funckje CGR, trzeba ją tez załączyc do kodu\n",
    "\n",
    "fig = plt.figure(figsize=(5, 5))\n",
    "ax = fig.add_subplot(111)\n",
    "plt.scatter(p1[:,0],p1[:,1],c = \"red\", s = 4, label = \"CGR\")\n",
    "#plt.scatter([0.5],[0.5])\n",
    "ax.text(0.01, 0.03, 'A', transform=ax.transAxes, fontweight='bold', va='top', ha='left',backgroundcolor='k', color='white')\n",
    "ax.text(0.01, 0.99, 'C', transform=ax.transAxes, fontweight='bold', va='top', ha='left',backgroundcolor='k', color='white')\n",
    "ax.text(0.975, 0.03, 'G', transform=ax.transAxes, fontweight='bold', va='top', ha='left',backgroundcolor='k', color='white')\n",
    "ax.text(0.975, 0.99, 'T', transform=ax.transAxes, fontweight='bold', va='top', ha='left',backgroundcolor='k', color='white')\n",
    "\n",
    "plt.xlim(0,1)\n",
    "plt.ylim(0,1)\n",
    "plt.gca().set_aspect('equal', adjustable='box')\n",
    "#plt.savefig(\"obrazek.png\", dpi=300) #Jak chcemy zapisac do pliku to odkomentowac\n",
    "plt.show()"
   ]
  },
  {
   "cell_type": "markdown",
   "metadata": {},
   "source": [
    "<h4> Zadanie3. Wygeneruj sekwencję losową o długości 10000, w której nie ma A. Następnie narysuj wykresy częstości dla nukleotydów i dinukleotydów oraz zaprezentuj sekwencję graficznie (CGR)."
   ]
  },
  {
   "cell_type": "markdown",
   "metadata": {},
   "source": [
    "<h4> Zadanie4. Wygeneruj sekwencję losową o długości 10000, w której nie ma podsekwencji AG. Następnie narysuj wykresy częstości dla nukleotydów i dinukleotydów oraz zaprezentuj sekwencję graficznie (CGR)."
   ]
  },
  {
   "cell_type": "markdown",
   "metadata": {},
   "source": [
    "<h4> Zadanie5. Wygeneruj sekwencję losową o długości 10000, w której nie ma podsekwencji AT. Następnie narysuj wykresy częstości dla nukleotydów i dinukleotydów oraz zaprezentuj sekwencję graficznie (CGR)."
   ]
  },
  {
   "cell_type": "markdown",
   "metadata": {},
   "source": [
    "<h4> Zadanie6. Wykonanaj anlogicznie obliczenia dla genomu mitochondrialnego. Skomentuj pokrótce otrzymane wyniki."
   ]
  },
  {
   "cell_type": "code",
   "execution_count": 11,
   "metadata": {},
   "outputs": [
    {
     "data": {
      "text/plain": [
       "16559"
      ]
     },
     "execution_count": 11,
     "metadata": {},
     "output_type": "execute_result"
    }
   ],
   "source": [
    "#NCBI ID: FJ986465.1\n",
    "\n",
    "seq = \"GATCACAGGTCTATCACCCTATTAACCACTCACGGGAGCTCTCCATGCATTTGGTATTTTCGTCTGGGGGGTGTGCACGCGATAGCATTGCGAGACGCTGGAGCCGGAGCACCCTATGTCGCAGTATCTGTCTTTGATTCCTGCCTCATCCTATTATTTATCGCACCTACGTTCAATATTACAGACGAGCATACTTACTAAAGTGTGTTAATTAATTAATGCTTGTAGGACATAATAATAACAATTGAATGTCTGCACAGCCGCTTTCCACACAGACATCATAACAAAAAATTTCCACCAAACCCCCCCTCCCCCGCTTCTGGCCACAGCACTTAAACACATCTCTGCCAAACCCCAAAAACAAAGAACCCTAACACCAGCCTAACCAGATTTCAAATTTTATCTTTTGGCGGTATGCACTTTTAACAGTCACCCCCCAACTAACACATTATTTTCCCCTCCCACTCCCATACTACTAATCTCATCAACACAACCCCCGCCCATCCTACCCAGCACACACACACCGCTGCTAACCCCATACCCCGAACCAACCAAACCCCAAAGACACCCCCCACAGTTTATGTAGCTTACCTCCTCAAAGCAATACACTGAAAATGTTTAGACGGGCTCACATCACCCCATAAACAAATAGGTTTGGTCCTAGCCTTTCTATTAGCTCTTAGTAAGATTACACATGCAAGCATCCCCGTTCCAGTGAGTTCACCCTCTAAATCACCACGATCAAAAGGGACAAGCATCAAGCACGCAGCAATGCAGCTCAAAACGCTTAGCCTAGCCACACCCCCACGGGAAACAGCAGTGATTAGCCTTTAGCAATAAACGAAAGTTTAACTAAGCTATACTAACCCCAGGGTTGGTCAATTTCGTGCCAGCCACCGCGGTCACACGATTAACCCAAGTCAATAGAAGCCGGCGTAAAGAGTGTTTTAGATCACCCCCTCCCCAATAAAGCTAAAACTCACCTGAGTTGTAAAAAACTCCAGTTGACACAAAATAGACTACGAAAGTGGCTTTAACATATCTGAACACACAATAGCTAAGACCCAAACTGGGATTAGATACCCCACTATGCTTAGCCCTAAACCTCAACAGTTAAATCAACAAAACTGCTCGCCAGAACACTACGAGCCACAGCTTAAAACTCAAAGGACCTGGCGGTGCTTCATATCCCTCTAGAGGAGCCTGTTCTGTAATCGATAAACCCCGATCAACCTCACCACCTCTTGCTCAGCCTATATACCGCCATCTTCAGCAAACCCTGATGAAGGCTACAAAGTAAGCGCAAGTACCCACGTAAAGACGTTAGGTCAAGGTGTAGCCCATGAGGTGGCAAGAAATGGGCTACATTTTCTACCCCAGAAAACTACGATAGCCCTTATGAAACTTAAGGGTCGAAGGTGGATTTAGCAGTAAACTGAGAGTAGAGTGCTTAGTTGAACAGGGCCCTGAAGCGCGTACACACCGCCCGTCACCCTCCTCAAGTATACTTCAAAGGACATTTAACTAAAACCCCTACGCATTTATATAGAGGAGACAAGTCGTAACATGGTAAGTGTACTGGAAAGTGCACTTGGACGAACCAGAGTGTAGCTTAACACAAAGCACCCAACTTACACTTAGGAGATTTCAACTTAACTTGACCGCTCTGAGCTAAACCTAGCCCCAAACCCACTCCACCTTACTACCAGACAACCTTAGCCAAACCATTTACCCAAATAAAGTATAGGCGATAGAAATTGAAACCTGGCGCAATAGATATAGTACCGCAAGGGAAAGATGAAAAATTATAACCAAGCATAATATAGCAAGGACTAACCCCTATACCTTCTGCATAATGAATTAACTAGAAATAACTTTGCAAGGAGAGCCAAAGCTAAGACCCCCGAAACCAGACGAGCTACCTAAGAACAGCTAAAAGAGCACACCCGTCTATGTAGCAAAATAGTGGGAAGATTTATAGGTAGAGGCGACAAACCTACCGAGCCTGGTGATAGCTGGTTGTCCAAGATAGAATCTTAGTTCAACTTTAAATTTGCCCACAGAACCCTCTAAATCCCCTTGTAAATTTAACTGTTAGTCCAAAGAGGAACAGCTCTTTGGACACTAGGAAAAAACCTTGTAGAGAGAGTAAAAAATTTAACACCCATAGTAGGCCTAAAAGCAGCCACCAATTAAGAAAGCGTTCAAGCTCAACACCCACTACCTAAAAAATCCCAAACATATAACTGAACTCCTCACACCCAATTGGACCAATCTATCACCCTATAGAAGAACTAATGTTAGTATAAGTAACATGAAAACATTCTCCTCCGCATAAGCCTGCGTCAGATTAAAACACTGAACTGACAATTAACAGCCCAATATCTACAATCAACCAACAAGTCATTATTACCCTCACTGTCAACCCAACACAGGCATGCTCATAAGGAAAGGTTAAAAAAAGTAAAAGGAACTCGGCAAATCTTACCCCGCCTGTTTACCAAAAACATCACCTCTAGCATCACCAGTATTAGAGGCACCGCCTGCCCAGTGACACATGTTTAACGGCCGCGGTACCCTAACCGTGCAAAGGTAGCATAATCACTTGTTCCTTAAATAGGGACCTGTATGAATGGCTCCACGAGGGTTCAGCTGTCTCTTACTTTTAACCAGTGAAATTGACCTGCCCGTGAAGAGGCGGGCATGACACAGCAAGACGAGAAGACCCTATGGAGCTTTAATTTATTAATGCAAACAGTACCTAACAAACCCACAGGTCCTAAACTACCAAACCTGCATTAAAAATTTCGGTTGGGGCGACCTCGGAGCAGAACCCAACCTCCGAGCAGTACATGCTAAGACTTCACCAGTCAAAGCGAACTACTATACTCAATTGATCCAATAACTTGACCAACGGAACAAGTTACCCTAGGGATAACAGCGCAATCCTATTCTAGAGTCCATATCAACAATAGGGTTTACGACCTCGATGTTGGATCAGGACATCCCGATGGTGCAGCCGCTATTAAAGGTTCGTTTGTTCAACGATTAAAGTCCTACGTGATCTGAGTTCAGACCGGAGTAATCCAGGTCGGTTTCTATCTACTTCAAATTCCTCCCTGTACGAAAGGACAAGAGAAATAAGGCCTACTTCACAAAGCGCCTTCCCCCGTAAATGATATCATCTCAACTTAGTATTATACCCACACCCACCCAAGAACAGGGTTTGTTAAGATGGCAGAGCCCGGTAATCGCATAAAACTTAAAACTTTACAGTCAGAGGTTCAATTCCTCTTCTTAACAACATACCCATGGCCAACCTCCTACTCCTCATTGTACCCATTCTAATCGCAATGGCATTCCTAATGCTTACCGAACGAAAAATTCTAGGCTATATACAACTACGCAAAGGCCCCAACGTTGTAGGCCCCTACGGGCTACTACAACCCTTCGCTGACGCCATAAAACTCTTCACCAAAGAGCCCCTAAAACCCGCCACATCTACCATCACCCTCTACATCACCGCCCCGACCTTAGCTCTCACCATCGCTCTTCTACTATGAACCCCCCTCCCCATACCCAACCCCCTGGTCAACCTCAACCTAGGCCTCCTATTTATTCTAGCCACCTCTAGCCTAGCCGTTTACTCAATCCTCTGATCAGGGTGAGCATCAAACTCAAACTACGCCCTGATCGGCGCACTGCGAGCAGTAGCCCAAACAATCTCATATGAAGTCACCCTAGCCATCATTCTACTATCAACATTACTAATAAGTGGCTCCTTTAACCTCTCCACCCTTATCACAACACAAGAACACCTCTGATTACTCCTGCCATCATGACCCTTGGCCATAATATGATTTATCTCCACACTAGCAGAGACCAACCGAACCCCCTTCGACCTTGCCGAAGGGGAGTCCGAACTAGTCTCAGGCTTCAACATCGAATACGCCGCAGGCCCCTTCGCCCTATTCTTCATAGCCGAATACACAAACATTATTATAATAAACACCCTCACCACTACAATCTTCCTAGGAACAACATATGACGCACTCTCCCCTGAACTCTACACAACATATTTTGTCACCAAGACCCTACTTCTAACCTCCCTGTTCTTATGAATTCGAACAGCATACCCCCGATTCCGCTACGACCAACTCATACACCTCCTATGAAAAAACTTCCTACCACTCACCCTAGCATTACTTATATGATATGTCTCCATACCCATTACAATCTCCAGCATTCCCCCTCAAACCTAAGAAATATGTCTGATAAAAGAGTTACTTTGATAGAGTAAATAATAGGAGCTTAAACCCCCTTATTTCTAGGACTATGAGAATCGAACCCATCCCTGAGAATCCAAAATTCTCCGTGCCACCTATCACACCCCATCCTAAAGTAAGGTCAGCTAAATAAGCTATCGGGCCCATACCCCGAAAATGTTGGTTATACCCTTCCCGTACTAATTAATCCCCTGGCCCAACCCGTCATCTACTCTACCATCTTTGCAGGCACACTCATCACAGCGCTAAGCTCGCACTGATTTTTTACCTGAGTAGGCCTAGAAATAAACATGCTAGCTTTTATTCCAGTTCTAACCAAAAAAATAAACCCTCGTTCCACAGAAGCTGCCATCAAGTATTTCCTCACGCAAGCAACCGCATCCATAATCCTTCTAATAGCTATCCTCTTCAACAATATACTCTCCGGACAATGAACCATAACCAATACTACCAATCAATACTCATCATTAATAATCATAATGGCTATAGCAATAAAACTAGGAATAGCCCCCTTTCACTTCTGAGTCCCAGAGGTTACCCAAGGCACCCCTCTGACATCCGGCCTGCTTCTTCTCACATGACAAAAACTAGCCCCCATCTCAATCATATACCAAATCTCTCCCTCACTAAACGTAAGCCTTCTCCTCACTCTCTCAATCTTATCCATCATAGCAGGCAGTTGAGGTGGATTAAACCAAACCCAGCTACGCAAAATCTTAGCATACTCCTCAATTACCCACATAGGATGAATAATAGCAGTTCTACCGTACAACCCTAACATAACCATTCTTAATTTAACTATTTATATTATCCTAACTACTACCGCATTCCTACTACTCAACTTAAACTCCAGCACCACGACCCTACTACTATCTCGCACCTGAAACAAGCTAACATGACTAACACCCTTAATTCCATCCACCCTCCTCTCCCTAGGAGGCCTGCCCCCGCTAACCGGCTTTTTGCCCAAATGGGCCATTATCGAAGAATTCACAAAAAACAATAGCCTCATCATCCCCACCATCATAGCCACCATCACCCTCCTTAACCTCTACTTCTACCTACGCCTAATCTACTCCACCTCAATCACACTACTCCCCATATCTAACAACGTAAAAATAAAATGACAGTTTGAACATACAAAACCCACCCCATTCCTCCCCACACTCATCGCCCTTACCACGCTACTCCTACCTATCTCCCCTTTTATACTAATAATCTTATAGAAATTTAGGTTAAATACAGACCAAGAGCCTTCAAAGCCCTCAGTAAGTTGCAATACTTAATTTCTGTAACAGCTAAGGACTGCAAAACCCCACTCTGCATCAACTGAACGCAAATCAGCCACTTTAATTAAGCTAAGCCCTTACTAGACCAATGGGACTTAAACCCACAAACACTTAGTTAACAGCTAAGCACCCTAATCAACTGGCTTCAATCTACTTCTCCCGCCGCCGGGAAAAAAGGCGGGAGAAGCCCCGGCAGGTTTGAAGCTGCTTCTTCGAATTTGCAATTCAATATGAAAATCACCTCGGAGCTGGTAAAAAGAGGCCTAACCCCTGTCTTTAGATTTACAGTCCAATGCTTCACTCAGCCATTTTACCTCACCCCCACTGATGTTCGCCGACCGTTGACTATTCTCTACAAACCACAAAGACATTGGAACACTATACCTATTATTCGGCGCATGAGCTGGAGTCCTAGGCACAGCTCTAAGCCTCCTTATTCGAGCCGAGCTGGGCCAGCCAGGCAACCTTCTAGGTAACGACCACATCTACAACGTTATCGTCACAGCCCATGCATTTGTAATAATCTTCTTCATAGTAATACCCATCATAATCGGAGGCTTTGGCAACTGACTAGTTCCCCTAATAATCGGTGCCCCCGATATGGCGTTTCCCCGCATAAACAACATAAGCTTCTGACTCTTACCTCCCTCTCTCCTACTCCTGCTCGCATCTGCTATAGTGGAGGCCGGAGCAGGAACAGGTTGAACAGTCTACCCTCCCTTAGCAGGGAACTACTCCCACCCTGGAGCCTCCGTAGACCTAACCATCTTCTCCTTACACCTAGCAGGTGTCTCCTCTATCTTAGGGGCCATCAATTTCATCACAACAATTATCAATATAAAACCCCCTGCCATAACCCAATACCAAACGCCCCTCTTCGTCTGATCCGTCCTAATCACAGCAGTCCTACTTCTCCTATCTCTCCCAGTCCTAGCTGCTGGCATCACTATACTACTAACAGACCGCAACCTCAACACCACCTTCTTCGACCCCGCCGGAGGAGGAGACCCCATTCTATACCAACACCTATTCTGATTTTTCGGTCACCCTGAAGTTTATATTCTTATCCTACCAGGCTTCGGAATAATCTCCCATATTGTAACTTACTACTCCGGAAAAAAAGAACCATTTGGATACATAGGTATGGTCTGAGCTATGATATCAATTGGCTTCCTAGGGTTTATCGTGTGAGCACACCATATATTTACAGTAGGAATAGACGTAGACACACGAGCATATTTCACCTCCGCTACCATAATCATCGCTATCCCCACCGGCGTCAAAGTATTTAGCTGACTCGCCACACTCCACGGAAGCAATATGAAATGATCTGCTGCAGTGCTCTGAGCCCTAGGATTCATCTTTCTTTTCACCGTAGGTGGCCTGACTGGCATTGTATTAGCAAACTCATCACTAGACATCGTACTACACGACACGTACTACGTTGTAGCTCACTTCCACTATGTCCTATCAATAGGAGCTGTATTTGCCATCATAGGAGGCTTCATTCACTGATTTCCCCTATTCTCAGGCTACACCCTAGACCAAACCTACGCCAAAATCCATTTCACTATCATATTCATCGGCGTAAATCTAACTTTCTTCCCACAACACTTTCTCGGCCTATCCGGAATGCCCCGACGTTACTCGGACTACCCCGATGCATACACCACATGAAACATCCTATCATCTGTAGGCTCATTCATTTCTCTAACAGCAGTAATATTAATAATTTTCATGATTTGAGAAGCCTTCGCTTCGAAGCGAAAAGTCCTAATAGTAGAAGAACCCTCCATAAACCTGGAGTGACTATATGGATGCCCCCCACCCTACCACACATTCGAAGAACCCGTATACATAAAATCTAGACAAAAAAGGAAGGAATCGAACCCCCCAAAGCTGGTTTCAAGCCAACCCCATGGCCTCCATGACTTTTTCAAAAAGGTATTAGAAAAACCATTTCATAACTTTGTCAAAGTTAAATTATAGGCTAAATCCTATATATCTTAATGGCACATGCAGCGCAAGTAGGTCTACAAGACGCTACTTCCCCTATCATAGAAGAGCTTATCACCTTTCATGATCACGCCCTCATAATCATTTTCCTTATCTGCTTCCTAGTCCTGTATGCCCTTTTCCTAACACTCACAACAAAACTAACTAATACTAACATCTCAGACGCTCAGGAAATAGAAACCGTCTGAACTATCCTGCCCGCCATCATCCTAGTCCTCATCGCCCTCCCATCCCTACGCATCCTTTACATAACAGACGAGGTCAACGATCCCTCCCTTACCATCAAATCAATTGGCCACCAATGGTACTGAACCTACGAGTACACCGACTACGGCGGACTAATCTTCAACTCCTACATACTTCCCCCATTATTCCTAGAACCAGGCGACCTGCGACTCCTTGACGTTGACAATCGAGTAGTACTCCCGATTGAAGCCCCCATTCGTATAATAATTACATCACAAGACGTCTTGCACTCATGAGCTGTCCCCACATTAGGCTTAAAAACAGATGCAATTCCCGGACGTCTAAACCAAACCACTTTCACCGCTACACGACCGGGGGTATACTACGGTCAATGCTCTGAAATCTGTGGAGCAAACCACAGTTTCATGCCCATCGTCCTAGAATTAATTCCCCTAAAAATCTTTGAAATAGGGCCCGTATTTACCCTATAGCACCCCCTCTAGAGCCCACTGTAAAGCTAACTTAGCATTAACCTTTTAAGTTAAAGATTAAGAGAACCAACACCTCTTTACAGTGAAATGCCCCAACTAAATACTACCGTATGGCCCACCATAATTACCCCCATACTCCTTACACTATTCCTCATCACCCAACTAAAAATATTAAACACAAACTACCACCTACCTCCCTCACCAAAGCCCATAAAAATAAAAAATTATAACAAACCCTGAGAACCAAAATGAACGAAAATCTGTTCGCTTCATTCATTGCCCCCACAATCCTAGGCCTACCCGCCGCAGTACTGATCATTCTATTTCCCCCTCTATTGATCCCCACCTCCAAATATCTCATCAACAACCGACTAATCACCACCCAACAATGACTAATCAAACTAACCTCAAAACAAATGATAACCATACACAACACTAAAGGACGAACCTGATCTCTTATACTAGTATCCTTAATCATTTTTATTGCCACAACTAACCTCCTCGGACTCCTGCCTCACTCATTTACACCAACCACCCAACTATCTATAAACCTAGCCATGGCCATCCCCTTATGAGCGGGCGCAGTGATTATAGGCTTTCGCTCTAAGATTAAAAATGCCCTAGCCCACTTCTTACCACAAGGCACACCTACACCCCTTATCCCCATACTAGTTATTATCGAAACCATCAGCCTACTCATTCAACCAATAGCCCTGGCCGTACGCCTAACCGCTAACATTACTGCAGGCCACCTACTCATGCACCTAATTGGAAGCGCCACCCTAGCAATATCAACCATTAACCTTCCCTCTACACTTATCATCTTCACAATTCTAATTCTACTGACTATCCTAGAAATCGCTGTCGCCTTAATCCAAGCCTACGTTTTCACACTTCTAGTAAGCCTCTACCTGCACGACAACACATAATGACCCACCAATCACATGCCTATCATATAGTAAAACCCAGCCCATGACCCCTAACAGGGGCCCTCTCAGCCCTCCTAATGACCTCCGGCCTAGCCATGTGATTTCACTTCCACTCCATAACGCTCCTCATACTAGGCCTACTAACCAACACACTAACCATATACCAATGATGGCGCGATGTAACACGAGAAAGCACATACCAAGGCCACCACACACCACCTGTCCAAAAAGGCCTTCGATACGGGATAATCCTATTTATTACCTCAGAAGTTTTTTTCTTCGCAGGATTTTTCTGAGCCTTTTACCACTCCAGCCTAGCCCCTACCCCCCAATTAGGAGGGCACTGGCCCCCAACAGGCATCACCCCGCTAAATCCCCTAGAAGTCCCACTCCTAAACACATCCGTATTACTCGCATCAGGAGTATCAATCACCTGAGCTCACCATAGTCTAATAGAAAACAACCGAAACCAAATAATTCAAGCACTGCTTATTACAATTTTACTGGGTCTCTATTTTACCCTCCTACAAGCCTCAGAGTACTTCGAGTCTCCCTTCACCATTTCCGACGGCATCTACGGCTCAACATTTTTTGTAGCCACAGGCTTCCACGGACTTCACGTCATTATTGGCTCAACTTTCCTCACTATCTGCTTCATCCGCCAACTAATATTTCACTTTACATCCAAACATCACTTTGGCTTCGAAGCCGCCGCCTGATACTGGCATTTTGTAGATGTGGTTTGACTATTTCTGTATGTCTCCATCTATTGATGAGGGTCTTACTCTTTTAGTATAAATAGTACCGTTAACTTCCAATTAACTAGTTTTGACAACATTCAAAAAAGAGTAATAAACTTCGCCTTAATTTTAATAATCAACACCCTCCTAGCCTTACTACTAATAATTATTACATTTTGACTACCACAACTCAACGGCTACATAGAAAAATCCACCCCTTACGAGTGCGGCTTCGACCCTATATCCCCCGCCCGCGTCCCTTTCTCCATAAAATTCTTCTTAGTAGCTATTACCTTCTTATTATTTGATCTAGAAATTGCCCTCCTTTTACCCCTACCATGAGCCCTACAAACAACTAACCTGCCACTAATAGTTATGTCATCCCTCTTATTAATCATCATCCTAGCCCTAAGTCTGGCCTATGAGTGACTACAAAAAGGATTAGACTGAACCGAATTGGTATATAGTTTAAACAAAACGAATGATTTCGACTCATTAAATTATGATAATCATATTTACCAAATGCCCCTCATTTACATAAATATTATACTAGCATTTACCATCTCACTTCTAGGAATACTAGTATATCGCTCACACCTCATATCCTCCCTACTATGCCTAGAAGGAATAATACTATCGCTGTTCATTATAGCTACTCTCATAACCCTCAACACCCACTCCCTCTTAGCCAATATTGTGCCTATTGCCATACTAGTCTTTGCCGCCTGCGAAACAGCGGTGGGCCTAGCCCTACTAGTCTCAATCTCCAACACATATGGCCTAGACTACGTACATAACCTAAACCTACTCCAATGCTAAAACTAATCGTCCCAACAATTATATTACTACCACTGACATGACTTTCCAAAAAACACATAATTTGAATCAACACAACCACCCACAGCCTAATTATTAGCATCATCCCTCTACTATTTTTTAACCAAATCAACAACAACCTATTTAGCTGTTCCCCAACCTTTTCCTCCGACCCCCTAACAACCCCCCTCCTAATACTAACTACCTGACTCCTACCCCTCACAATCATGGCAAGCCAACGCCACTTATCCAGTGAACCACTATCACGAAAAAAACTCTACCTCTCTATACTAATCTCCCTACAAATCTCCTTAATTATAACATTCACAGCCACAGAACTAATCATATTTTATATCTTCTTCGAAACCACACTTATCCCCACCTTGGCTATCATCACCCGATGAGGCAACCAGCCAGAACGCCTGAACGCAGGCACATACTTCCTATTCTACACCCTAGTAGGCTCCCTTCCCCTACTCATCGCACTAATTTACACTCACAACACCCTAGGCTCACTAAACATTCTACTACTCACTCTCACTGCCCAAGAACTATCAAACTCCTGAGCCAACAACTTAATATGACTAGCTTACACAATAGCTTTTATAGTAAAGATACCTCTTTACGGACTCCACTTATGACTCCCTAAAGCCCATGTCGAAGCCCCCATCGCTGGGTCAATAGTACTTGCCGCAGTACTCTTAAAACTAGGCGGCTATGGTATAATACGCCTCACACTCATTCTCAACCCCCTGACAAAACACATAGCCTACCCCTTCCTTGTACTATCCCTATGAGGCATAATTATAACAAGCTCCATCTGCCTACGACAAACAGACCTAAAATCGCTCATTGCATACTCTTCAATCAGCCACATAGCCCTCGTAGTAACAGCCATTCTCATCCAAACCCCCTGAAGCTTCACCGGCGCAGTCATTCTCATAATCGCCCACGGACTTACATCCTCATTACTATTCTGCCTAGCAAACTCAAACTACGAACGCACTCACAGTCGCATCATAATCCTCTCTCAAGGACTTCAAACTCTACTCCCACTAATAGCTTTTTGATGACTTCTAGCAAGCCTCGCTAACCTCGCCTTACCCCCCACTATTAACCTACTGGGAGAACTCTCTGTGCTAGTAACCACATTCTCCTGATCAAATATCACTCTCCTACTTACAGGACTCAACATACTAGTCACAGCCCTATACTCCCTCTACATATTTACCACAACACAATGGGGCTCACTCACCCACCACATTAACAACATAAAACCCTCATTCACACGAGAAAACACCCTCATGTTCATACACCTATCCCCCATTCTCCTCCTATCCCTCAACCCCGACATCATTACCGGGTTTTCCTCTTGTAAATATAGTTTAACCAAAACATCAGATTGTGAATCTGACAACAGAGGCTTACGACCCCTTATTTACCGAGAAAGCTCACAAGAACTGCTAACTCATGCCCCCATGTCTAACAACATGGCTTTCTCAACTTTTAAAGGATAACAGCTATCCATTGGTCTTAGGCCCCAAAAATTTTGGTGCAACTCCAAATAAAAGTAATAACCATGCACACTACTATAACCACCCTAACCCTGACTTCCCTAATTCCCCCCATCCTTACCACCCTCGTTAACCCTAACAAAAAAAACTCATACCCCCATTATGTAAAATCCATTGTCGCATCCACCTTTATTATCAGTCTCTTCCCCACAACAATATTCATGTGCCTAGACCAAGAAGTTATTATCTCGAACTGACACTGAGCCACAACCCAAACAACCCAGCTCTCCCTAAGCTTCAAACTAGACTACTTCTCCATAATATTCATCCCTGTAGCATTGTTCGTTACATGGTCCATCATAGAATTCTCACTGTGATATATAAACTCAGACCCAAACATTAATCAGTTCTTCAAATATCTACTCATCTTCCTAATTACCATACTAATCTTAGTTACCGCTAACAACCTATTCCAACTGTTCATCGGCTGAGAGGGCGTAGGAATTATATCCTTCTTGCTCATCAGTTGATGATACGCCCGAGCAGATGCCAACACAGCAGCCATTCAAGCAATCCTATACAACCGTATCGGCGATATCGGTTTCATCCTCGCCTTAGCATGATTTATCCTACACTCCAACTCATGAGACCCACAACAAATAGCCCTTCTAAACGCTAATCCAAGCCTCACCCCACTACTAGGCCTCCTCCTAGCAGCAGCAGGCAAATCAGCCCAATTAGGTCTCCACCCCTGACTCCCCTCAGCCATAGAAGGCCCCACCCCAGTCTCAGCCCTACTCCACTCAAGCACTATAGTTGTAGCAGGAATCTTCTTACTCATCCGCTTCCACCCCCTAGCAGAAAATAGCCCACTAATCCAAACTCTAACACTATGCTTAGGCGCTATCACCACTCTGTTCGCAGCAGTCTGCGCCCTTACACAAAATGACATCAAAAAAATCGTAGCCTTCTCCACTTCAAGTCAACTAGGACTCATAATAGTTACAATCGGCATCAACCAACCACACCTAGCATTCCTGCACATCTGTACCCACGCCTTCTTCAAAGCCATACTATTTATGTGCTCCGGGTCCATCATCCACAACCTTAACAATGAACAAGATATTCGAAAAATAGGAGGACTACTCAAAACCATACCTCTCACTTCAACTTCCCTCACCATTGGCAGCCTAGCATTAGCAGGAATACCTTTCCTCACAGGTTTCTACTCCAAAGACCACATCATCGAAACCGCAAACATATCATACACAAACGCCTGAGCCCTATCTATTACTCTCATCGCTACCTCCCTGACAAGCGCCTATAGCACTCGAATAATTCTTCTCACCCTAACAGGTCAACCTCGCTTCCCCACCCTTACTAACATTAACGAAAATAACCCCACCCTACTAAACCCCATTAAACGCCTGGCAGCCGGAAGCCTATTCGCAGGATTTCTCATTACTAACAACATTTCCCCCGCATCCCCCTTCCAAACAACAATCCCCCTCTACCTAAAACTCACAGCCCTCGCTGTCACTTTCCTAGGACTTCTAACAGCCCTAGACCTCAACTACCTAACCAACAAACTTAAAATAAAATCCCCACTATGCACATTTTATTTCTCCAACATACTCGGATTCTACCCTAGCATCACACACCGCGCAATCCCCTATCTAGGCCTTCTTACGAGCCAAAACCTGCCCCTACTCCTCCTAGACCTAACCTGACTAGAAAAGCTATTACCTAAAACAATTTCACAGCACCAAATCTCCACCTCCATCATCACCTCAACCCAAAAAGGCATAATTAAACTTTACTTCCTCTCTTTCTTCTTCCCACTCATCCTAACCCTACTCCTAATCACATAACCTATTCCCCCGAGCAATCTCAATTACAATATATACACCAACAAACAATGTTCAACCAGTAACTACTACTAATCAACGCCCATAATCATATAAAGCCCCCGCACCAATAGGATCCTCCCGAATCAACCCTGACCCCTCTCCTTCATAAATTATTCAGCTTCCTACACTATTAAAGTTTACCACAACCACCACCCCATCATACTCTTTCACCCACAGCACCAATCCTACCTCCATCGCTAACCCCACTAAAACACTCACCAAGACCTCAACCCCTGACCCCCATGCCTCAGGATACTCCTCAATAGCCATCGCTGTAGTATATCCAAAGACAACCACCATTCCCCCTAAATAAATTAAAAAAACTATTAAACCCATATAACCTCCCCCAAAATTCAGAATAATAACACACCCGACCACACCGCTAACAATCAATACTAAACCCCCATAAATAGGAGAAGGCTTAGAAGAAAACCCCACAAACCCCATTACTAAACCCACACTCAACAGAAACAAAGCATACATCATTATTCTCGCACGGACTACAACCACGACCAATGATATGAAAAACCATCGTTGTATTTCAACTACAAGAACACCAATGACCCCAATACGCAAAATTAACCCCCTAATAAAATTAATTAACCACTCATTCATCGACCTCCCCACCCCATCCAACATCTCCGCATGATGAAACTTCGGCTCACTCCTTGGCGCCTGCCTGATCCTCCAAATCACCACAGGACTATTCCTAGCCATGCACTACTCACCAGACGCCTCAACCGCCTTTTCATCAATCGCCCACATCACTCGAGACGTAAATTATGGCTGAATCATCCGCTACCTTCACGCCAATGGCGCCTCAATATTCTTTATCTGCCTCTTCCTACACGTCGGGCGAGGCCTATATTACGGATCATTTCTCTACTCAGAAACCTGAAACATCGGCATTATCCTCCTGCTTGCAACTATAGCAACAGCCTTCATAGGCTATGTCCTCCCGTGAGGCCAAATATCATTCTGAGGGGCCACAGTAATTACAAACTTACTATCCGCCATCCCATACATTGGGACAGACCTAGTTCAATGAATCTGAGGAGGCTACTCAGTAGACAGTCCCACCCTCACACGATTCTTTACCTTTCACTTCATCTTGCCCTTCATTATTGCAGCCCTAGCAGCACTCCACCTCCTATTCTTGCACGAAACGGGATCAAACAACCCCCTAGGAATCACCTCCCATTCCGATAAAATCACCTTCCACCCTTACTACACAATCAAAGACGCCCTCGGCTTACTTCTCTTCCTTCTCTCCTTAATGACATTAACACTATTCTCACCAGACCTCCTAGGCGACCCAGACAATTATACCCTAGCCAACCCCTTAAATACCCCTCCCCACATCAAGCCCGAATGATATTTCCTATTCGCCTACACAATTCTCCGATCCGTCCCTAACAAACTAGGAGGCGTCCTTGCCCTATTACTATCCATCCTCATCCTAGCAATAATCCCCATCCTCCATATATCCAAACAACAAAGCATAATATTTCGCCCACTAAGCCAATCACTTTATTGACTCCTAGCCGCAGACCTCCTCATTCTAACCTGAATCGGAGGACAACCAGTAAGCTACCCTTTTACCATCATTGGACAAGTAGCATCCGTACTATACTTCACAACAATCCTAATCCTAATACCAACTATCTCCCTAATTGAAAACAAAATACTCAAATGGGCCTGTCCTTGTAGTATAAACTAATACACCAGTCTTGTAAACCGGAAATGAAAACCTTTTTCCAAGGACAAATCAGAGAAAAAGTCTTTAACTCCACCATTAGCACCCAAAGCTAAGATTCTAATTTAAACTATTCTCTGTTCTTTCATGGGGAAGCAGATTTGGGTACCACCCAAGTATTGACTCACCCATCAACAACCGCTATGTATTTCGTACATTACTGCCAGCCACCATGAATATTGTACGGTACCATAAATACTTGACCACCTGTAGTACATAAAAACCCAATCCACATCAAAACCCCCCCCCCATGCTTACAAGCAAGTACAGCAACCAACCCTCAACTATCACACATCAACTGCAACTCCAAAGCCACCCCTCACCCACTAGGATACCAACAAACCTACCCACCCTTAACAGTACATAGTACATAAAGCCATTTACCGTACATAGCACATTACAGTCAAATCCCTTCTCGTCCCCATGGATGACCCCCCTCAGATAGGGGTCCCTTGACCACCATCCTCCGTGAAATCAATATCCCGCACAAGAGTGCTACTCTCCTCGCTCCGGGCCCATAACACTTGGGGGTAGCTAAAGTGAACTGTATCCGACATCTGGTTCCTACTTCAGGGCCATAAAGCCTAAATAGCCCACACGTTCCCCTTAAATAAGACATCACGATG\"\n",
    "len(seq)"
   ]
  },
  {
   "cell_type": "markdown",
   "metadata": {},
   "source": [
    "<h3> Metody porównania sekwencji biologicznych bez dopasowania (free-alignment methods)"
   ]
  },
  {
   "cell_type": "markdown",
   "metadata": {},
   "source": [
    "- Metoda oparta o k-mery"
   ]
  },
  {
   "cell_type": "code",
   "execution_count": 12,
   "metadata": {},
   "outputs": [
    {
     "name": "stdout",
     "output_type": "stream",
     "text": [
      "{'ATG': 1, 'TGG': 2, 'GGT': 1, 'GTG': 1}\n"
     ]
    }
   ],
   "source": [
    "def kmers(seq, k = 3):\n",
    "    '''Funkcja wyznacza liczbę k-merow'''\n",
    "    d = {}\n",
    "    N = len(seq)\n",
    "    for i in range(N-k+1):\n",
    "        mer = seq[i:(i+k)]\n",
    "        if mer not in d.keys():\n",
    "            d[mer] = 1\n",
    "        else:\n",
    "            d[mer] += 1\n",
    "    return d\n",
    "\n",
    "#przyklad dzialania\n",
    "s1 = \"ATGGTGG\"\n",
    "print(kmers(s1))"
   ]
  },
  {
   "cell_type": "code",
   "execution_count": 13,
   "metadata": {},
   "outputs": [
    {
     "name": "stdout",
     "output_type": "stream",
     "text": [
      "1.73\n"
     ]
    }
   ],
   "source": [
    "#k-comparison\n",
    "\n",
    "def k_comparison(seq1, seq2, k=3):\n",
    "    '''Funkcja wyznacza odlelgosc pomiędzy dwoma sekwencjami w oparciu o k-mery'''\n",
    "    d1 = kmers(seq1, k)\n",
    "    d2 = kmers(seq2, k)\n",
    "    all_mers = []\n",
    "    keysd1 = list(d1.keys())\n",
    "    keysd2 = list(d2.keys())\n",
    "    unique_mers = list(set(keysd1+keysd2))\n",
    "    c1 = []\n",
    "    c2 = []\n",
    "    for elem in unique_mers:\n",
    "        if elem in d1.keys():\n",
    "            c1.append(d1[elem])\n",
    "        else:\n",
    "            c1.append(0)\n",
    "            \n",
    "    for elem in unique_mers:\n",
    "        if elem in d2.keys():\n",
    "            c2.append(d2[elem])\n",
    "        else:\n",
    "            c2.append(0)\n",
    "    distance = 0\n",
    "    for i in range(len(c1)):\n",
    "        distance += (c1[i]-c2[i])**2\n",
    "    return round(distance**0.5,2)\n",
    "\n",
    "\n",
    "#przyklad dzialania\n",
    "s1 = \"ATGTGTG\"\n",
    "s2 = \"CATGTG\"\n",
    "print(k_comparison(s1, s2))"
   ]
  },
  {
   "cell_type": "markdown",
   "metadata": {},
   "source": [
    "- Metoda oparta o złożoność Lempel-Ziv"
   ]
  },
  {
   "cell_type": "code",
   "execution_count": 14,
   "metadata": {},
   "outputs": [
    {
     "name": "stdout",
     "output_type": "stream",
     "text": [
      "['A', 'T', 'G', 'TG', 'C', 'AT', 'GT']\n"
     ]
    }
   ],
   "source": [
    "def WordSeq(seq):\n",
    "    '''Funkcja wyznacza slowa w danej sekwencji'''\n",
    "    d=[]\n",
    "    l=len(seq)\n",
    "    i=0\n",
    "    k=1\n",
    "    n=0\n",
    "    while i<l:\n",
    "        while seq[i:i+k] in d and seq[::-1][-(i+k):-(i)] in d and i+k<l:\n",
    "            k+=1\n",
    "        if seq[i:i+k] not in d:     \n",
    "            d.append(seq[i:i+k]) \n",
    "        i+=k  \n",
    "        k=1   \n",
    "    return d\n",
    "\n",
    "#przyklad dzialania\n",
    "print(WordSeq(\"ATGTGTGCATGTG\"))"
   ]
  },
  {
   "cell_type": "code",
   "execution_count": 15,
   "metadata": {},
   "outputs": [
    {
     "name": "stdout",
     "output_type": "stream",
     "text": [
      "0.6\n"
     ]
    }
   ],
   "source": [
    "def words_comparison(seq1, seq2):\n",
    "    '''Funkcja wyznacza odlelgosc pomiędzy dwoma sekwencjami w oparciu o slowa'''\n",
    "    l1 = len(WordSeq(seq1))\n",
    "    l2 = len(WordSeq(seq2))\n",
    "    l3 = len(WordSeq(seq1+seq2))\n",
    "    C = (l3 - min(l1,l2))/max(l1,l2)\n",
    "    return C\n",
    "\n",
    "\n",
    "#przyklad dzialania\n",
    "s1 = \"ATGTGTG\"\n",
    "s2 = \"CATGTG\"\n",
    "print(words_comparison(s1, s2))"
   ]
  },
  {
   "cell_type": "markdown",
   "metadata": {},
   "source": [
    "- Wykorzystamy sobie teraz jedną z tych metod do porównania sekwencji zapytania (query) z pewną grupą sekwencji celem znalezienia sekwencji podobnych (potencjalnie homologicznych)."
   ]
  },
  {
   "cell_type": "markdown",
   "metadata": {},
   "source": [
    "<h4> Przykład. Dana jest sekwencja"
   ]
  },
  {
   "cell_type": "code",
   "execution_count": 16,
   "metadata": {},
   "outputs": [],
   "source": [
    "query = \"EKPDPHTKMHQYWLKPYELMEIYYQYRPFINFDQQMRVGLRCEA\""
   ]
  },
  {
   "cell_type": "markdown",
   "metadata": {},
   "source": [
    "<h4> Z użyciem metody k-mer z $k=3$ porówaj sekwencję query z sekewencjami z pliku database_p. Narysuj odpowiedni histogram odległości pomiędzy zapytaniem (query) a kolejnymi sekwencjami z pliku. Które sekwencje są najbardziej podobne?"
   ]
  },
  {
   "cell_type": "code",
   "execution_count": 17,
   "metadata": {},
   "outputs": [
    {
     "name": "stdout",
     "output_type": "stream",
     "text": [
      "seq18\n",
      "AKPDPHTKKHQYWLKPYELMEIYYQYRPFINFDQMRVGLRCEA\n",
      "seq27\n",
      "EKPHTKMHQYWLKPYELMEIYYQYRPFINDDQQMRVGLCEA\n",
      "seq99\n",
      "EKPDPHTKMHQYWLKPYELYRPFINFDQQMRVMLRCEA\n"
     ]
    },
    {
     "data": {
      "image/png": "[encoded data removed]",
      "text/plain": [
       "<Figure size 432x288 with 1 Axes>"
      ]
     },
     "metadata": {
      "needs_background": "light"
     },
     "output_type": "display_data"
    }
   ],
   "source": [
    "#tworze dwie puste listy, otwieram plik database_p, przechodząc go linijka po linijce do \"n\" i \"s\" wpisuje nazwy i sekwencje\n",
    "\n",
    "n = []\n",
    "s = []\n",
    "with open('database_p', 'r') as f:\n",
    "    for line in f:  #przechodzimy po kazdej linijce\n",
    "        line = line.rstrip() #tutaj strip() usuwa znaki konca linii (including \"\\n\")\n",
    "        if line.startswith('>'):\n",
    "            n.append(line[1:])\n",
    "        else:\n",
    "            s.append(line)\n",
    "            \n",
    "\n",
    "#nasze zapytanie\n",
    "query = \"EKPDPHTKMHQYWLKPYELMEIYYQYRPFINFDQQMRVGLRCEA\"\n",
    "\n",
    "#tworzę pustą listę, przechodze kolejne sekwencje z pliku i z uzyciem metody k-mer porownuje je z zapytaniem\n",
    "ks = []\n",
    "for i in range(len(n)):\n",
    "    ks.append(k_comparison(query, s[i], k=3)) #wywoluje metode k-mer z k=3 dla zapytania i kolejnej sekwencji z pliku\n",
    "    if k_comparison(query, s[i], k=3) < 5: #jezeli odleglosc jest mniejsza niz 5 to wyswietle te sekwencje\n",
    "        print(n[i])\n",
    "        print(s[i])\n",
    "\n",
    "#rysuje histogram        \n",
    "plt.hist(ks)\n",
    "plt.show()"
   ]
  },
  {
   "cell_type": "markdown",
   "metadata": {},
   "source": [
    "<h4> Zadanie7: Wykonaj analogicznie obliczenia stosując tym razem metodę Lempel-Ziv. Która sekwencja jest najbardziej podobna do zapytania?\n",
    "  \n",
    "<br>\n",
    "    \n",
    "Uwaga: W przypadku metody Lempel-Ziv odleglości są z mniejszego zakresu; najczęściej (0,1), chociaż mogą go nieznacznie przekraczać."
   ]
  },
  {
   "cell_type": "markdown",
   "metadata": {},
   "source": [
    "<h4> Zadanie8: Rozważ następujące sekwencje"
   ]
  },
  {
   "cell_type": "code",
   "execution_count": 18,
   "metadata": {},
   "outputs": [],
   "source": [
    "s1 = \"CCCGCAATAAGTCGCCCGCGCACACCAGCAGCTCCGCGCAAGGGGCCTTAATCAATTGCTACCCCTACTTGGGCTACCTCCTTGCTGGAACTTGAAGGGA\"\n",
    "s2 = \"CAATTGCTACCCCTACTTGGGCTACCTCCTTGCTGGAACTTGAAGGGACCCGCAATAAGTCGCCCGCGCACACCAGCAGCTCCGCGCAAGGGGCCTTAAT\""
   ]
  },
  {
   "cell_type": "markdown",
   "metadata": {},
   "source": [
    "<h4> \n",
    "\n",
    "- Wykonaj dopasowanie tych sekwencji (za pomocą Clustal Omega)\n",
    "- Porównaj te sekwencje za pomocą metody k-mer (k=5) oraz Lempel-Ziv. \n",
    "- ***Wygeneruj 1000 sekwencji losowych, tej samej długości co s1. Za pomocą metody k-mer oraz Lempel-Ziv porównaj sekwencję s1 oraz te sekwencje (podobnie jak w poprzednim przykładzie/zadaniu). Na tej podstawie stwierdź czy otrzymane odległości z poprzedniego punktu wskazują na duże bądź małe podobieństwo między sekwencjami.\n",
    "- Możesz dodatkowo narysować macierz kropkową (https://www.bioinformatics.nl/cgi-bin/emboss/dotmatcher)\n",
    "- Czy te sekwencje są do siebie podobne?\n",
    "\n",
    "\n",
    "\n",
    "*** - nieobowiązkowe"
   ]
  },
  {
   "cell_type": "markdown",
   "metadata": {},
   "source": [
    "<h3> Biologiczne bazy danych"
   ]
  },
  {
   "cell_type": "markdown",
   "metadata": {},
   "source": [
    "Poniższe zadania można wykonać bezpośrednio poprzez przeglądarkę, jednak zalecam spróbować skorzystać ze skryptów w języku Python. Są to skrypty: zad9.py, zad0.py oraz zad11.py."
   ]
  },
  {
   "cell_type": "markdown",
   "metadata": {},
   "source": [
    "<h4>\n",
    "\n",
    "Zadanie9: Odszukaj pracę o identyfikatorze 14697198 w bazie danych PubMed, a następnie odpowiedz na pytania:\n",
    "- jaki jest tytuł tej pracy?\n",
    "- w jakim wydawnictwie została wydana ta praca?\n",
    "- ilu autorów odpowiada za tę prace?\n",
    "- podaj przykładowe MeSH termy z tej pracy.\n"
   ]
  },
  {
   "cell_type": "markdown",
   "metadata": {},
   "source": [
    "- Do poniższego zadania przyda się pubmed_tags.png (zamieszczone w materiałach)."
   ]
  },
  {
   "cell_type": "markdown",
   "metadata": {},
   "source": [
    "<h4> Zadanie10: Zaproponuj hasło do wyszukania prac posiadających w tytule mRNA, opublikowanych w 2017 roku w czasopiśmie BMC Genomics. Ile jest takich prac?"
   ]
  },
  {
   "cell_type": "markdown",
   "metadata": {},
   "source": [
    "Skrypt zad10b.py pozwala dodatkowo wyświetlić tytuły prac dla danego zapytania."
   ]
  },
  {
   "cell_type": "markdown",
   "metadata": {},
   "source": [
    "<h4> Zadanie11: Z bazy Nucleotide pobierz sekwencje o następującach ID: NM_001012006.1, MK560199.1, AB046569.1. Zapisz je do jednego pliku w formacie FASTA, gdzie nazwa odpowiada organizmowi z którego dana sekwencja pochodzi [GBSeq_organism], natomiast sama sekwencja znajduje się w [GBSeq_sequence]. Dołącz do sprawozdania."
   ]
  }
 ],
 "metadata": {
  "kernelspec": {
   "display_name": "Python 3",
   "language": "python",
   "name": "python3"
  },
  "language_info": {
   "codemirror_mode": {
    "name": "ipython",
    "version": 3
   },
   "file_extension": ".py",
   "mimetype": "text/x-python",
   "name": "python",
   "nbconvert_exporter": "python",
   "pygments_lexer": "ipython3",
   "version": "3.8.5"
  }
 },
 "nbformat": 4,
 "nbformat_minor": 4
}
