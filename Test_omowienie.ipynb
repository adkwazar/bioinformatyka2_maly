{
 "cells": [
  {
   "cell_type": "markdown",
   "id": "6f4bca3f",
   "metadata": {},
   "source": [
    "<h4> Zadanie4 "
   ]
  },
  {
   "cell_type": "code",
   "execution_count": 1,
   "id": "4c723c6a",
   "metadata": {},
   "outputs": [
    {
     "data": {
      "text/html": [
       "2"
      ],
      "text/latex": [
       "2"
      ],
      "text/markdown": [
       "2"
      ],
      "text/plain": [
       "[1] 2"
      ]
     },
     "metadata": {},
     "output_type": "display_data"
    },
    {
     "data": {
      "text/html": [
       "17"
      ],
      "text/latex": [
       "17"
      ],
      "text/markdown": [
       "17"
      ],
      "text/plain": [
       "[1] 17"
      ]
     },
     "metadata": {},
     "output_type": "display_data"
    },
    {
     "data": {
      "text/html": [
       "4.12310562561766"
      ],
      "text/latex": [
       "4.12310562561766"
      ],
      "text/markdown": [
       "4.12310562561766"
      ],
      "text/plain": [
       "[1] 4.123106"
      ]
     },
     "metadata": {},
     "output_type": "display_data"
    }
   ],
   "source": [
    "#wyklad1\n",
    "x = c(1, -5, 7)\n",
    "p = c(3/6, 1/6,2/6)\n",
    "\n",
    "EX = sum(x*p)\n",
    "EX2 = sum((x**2)*p)  \n",
    "D2X = EX2 - (EX)^2\n",
    "DX = sqrt(D2X)\n",
    "EX; D2X; DX"
   ]
  },
  {
   "cell_type": "markdown",
   "id": "d4164292",
   "metadata": {},
   "source": [
    "<h4> Zadanie6"
   ]
  },
  {
   "cell_type": "markdown",
   "id": "c8f9b32e",
   "metadata": {},
   "source": [
    "$f(x) = \\lambda e^{-\\lambda x}$"
   ]
  },
  {
   "cell_type": "code",
   "execution_count": 2,
   "id": "ac98abbf",
   "metadata": {},
   "outputs": [
    {
     "data": {
      "text/plain": [
       "     rate   \n",
       "  0.3333333 \n",
       " (0.1490712)"
      ]
     },
     "metadata": {},
     "output_type": "display_data"
    }
   ],
   "source": [
    "#cwiczenie4\n",
    "x = c(1,1,5,3,5)\n",
    "library(MASS)\n",
    "fitdistr(x, \"exponential\")"
   ]
  },
  {
   "cell_type": "markdown",
   "id": "b72acdca",
   "metadata": {},
   "source": [
    "<h4> Zadanie7"
   ]
  },
  {
   "cell_type": "code",
   "execution_count": 5,
   "id": "8d3128d0",
   "metadata": {},
   "outputs": [
    {
     "data": {
      "text/html": [
       "2.44564726905202"
      ],
      "text/latex": [
       "2.44564726905202"
      ],
      "text/markdown": [
       "2.44564726905202"
      ],
      "text/plain": [
       "[1] 2.445647"
      ]
     },
     "metadata": {},
     "output_type": "display_data"
    }
   ],
   "source": [
    "#cwiczenie3\n",
    "jaki_procent = pnorm(175, 167, 14) - pnorm(160, 167, 14)\n",
    "ile = jaki_procent*6\n",
    "ile"
   ]
  },
  {
   "cell_type": "markdown",
   "id": "d4b7c4e4",
   "metadata": {},
   "source": [
    "<h4> Zadanie8"
   ]
  },
  {
   "cell_type": "markdown",
   "id": "c3cba9c1",
   "metadata": {},
   "source": [
    "Sposób1 (własność rozkładu normalnego)"
   ]
  },
  {
   "cell_type": "markdown",
   "id": "b3b77662",
   "metadata": {},
   "source": [
    "Jeżeli $X_1$ oraz $X_2$ to zmienne losowe niezależne oraz $X_1 \\sim N(\\mu_1, \\sigma_{1}^{2}), X_2 \\sim N(\\mu_2, \\sigma_{2}^{2})$ to $X_1 +X_2 \\sim N(\\mu_1+ \\mu_2, \\sigma_{1}^{2}+\\sigma_{2}^{2})$"
   ]
  },
  {
   "cell_type": "code",
   "execution_count": 5,
   "id": "a6e0aa57",
   "metadata": {},
   "outputs": [
    {
     "data": {
      "text/html": [
       "0.0240534139442596"
      ],
      "text/latex": [
       "0.0240534139442596"
      ],
      "text/markdown": [
       "0.0240534139442596"
      ],
      "text/plain": [
       "[1] 0.02405341"
      ]
     },
     "metadata": {},
     "output_type": "display_data"
    }
   ],
   "source": [
    "1 - pnorm(81000, 80000, sqrt(1000*16^2))  "
   ]
  },
  {
   "cell_type": "markdown",
   "id": "eaae6e56",
   "metadata": {},
   "source": [
    "Sposób2 (CTW)"
   ]
  },
  {
   "cell_type": "markdown",
   "id": "d04e1656",
   "metadata": {},
   "source": [
    "CTW: $\\frac{\\sum X_i - n\\mu}{\\sigma \\sqrt{n}} \\rightarrow N(0,1)$."
   ]
  },
  {
   "cell_type": "markdown",
   "id": "8a1c2f5f",
   "metadata": {},
   "source": [
    "$P(\\frac{\\sum X_i - n\\mu}{\\sigma \\sqrt{n}} <t) = F(t)$\n",
    "\n",
    "\n",
    "czyli\n",
    "\n",
    "$P(\\sum X_i  <t\\cdot \\sigma \\sqrt{n} + n\\mu) = F(t)$\n",
    "\n",
    "\n",
    "czyli\n",
    "\n",
    "$P(\\sum X_i  > t\\cdot \\sigma \\sqrt{n} + n\\mu) = 1- F(t)$\n",
    "\n",
    "my chcemy aby\n",
    "\n",
    "$t\\cdot \\sigma \\sqrt{n} + n\\mu=81000$, czyli $t = \\frac{81000 - n \\mu}{\\sigma \\sqrt{n}}$\n"
   ]
  },
  {
   "cell_type": "code",
   "execution_count": 2,
   "id": "e3db20ea",
   "metadata": {},
   "outputs": [
    {
     "data": {
      "text/html": [
       "1.97642353760524"
      ],
      "text/latex": [
       "1.97642353760524"
      ],
      "text/markdown": [
       "1.97642353760524"
      ],
      "text/plain": [
       "[1] 1.976424"
      ]
     },
     "metadata": {},
     "output_type": "display_data"
    }
   ],
   "source": [
    "#cwiczenie3\n",
    "n = 1000\n",
    "mu = 80\n",
    "sigma = 16\n",
    "\n",
    "t = (81000 -n*mu)/(sigma*sqrt(n))\n",
    "t"
   ]
  },
  {
   "cell_type": "code",
   "execution_count": 3,
   "id": "0ee93f58",
   "metadata": {},
   "outputs": [
    {
     "data": {
      "text/html": [
       "0.0240534139442596"
      ],
      "text/latex": [
       "0.0240534139442596"
      ],
      "text/markdown": [
       "0.0240534139442596"
      ],
      "text/plain": [
       "[1] 0.02405341"
      ]
     },
     "metadata": {},
     "output_type": "display_data"
    }
   ],
   "source": [
    "1 - pnorm(t)"
   ]
  },
  {
   "cell_type": "markdown",
   "id": "15a56efa",
   "metadata": {},
   "source": [
    "Sposób3 (symulacja)"
   ]
  },
  {
   "cell_type": "code",
   "execution_count": 4,
   "id": "c43e012a",
   "metadata": {},
   "outputs": [
    {
     "data": {
      "text/html": [
       "0.02337"
      ],
      "text/latex": [
       "0.02337"
      ],
      "text/markdown": [
       "0.02337"
      ],
      "text/plain": [
       "[1] 0.02337"
      ]
     },
     "metadata": {},
     "output_type": "display_data"
    }
   ],
   "source": [
    "N = 100000\n",
    "ile_razy = 0\n",
    "\n",
    "for (i in 1:N){\n",
    "    sad = rnorm(1000, 80, 16)\n",
    "    if (sum(sad) > 81000){\n",
    "        ile_razy = ile_razy+1\n",
    "    }\n",
    "}\n",
    "\n",
    "ile_razy/N"
   ]
  },
  {
   "cell_type": "markdown",
   "id": "dfc1c340",
   "metadata": {},
   "source": [
    "<h4> Zadanie5"
   ]
  },
  {
   "cell_type": "code",
   "execution_count": 23,
   "id": "b083e72a",
   "metadata": {},
   "outputs": [
    {
     "data": {
      "text/html": [
       "<ol class=list-inline>\n",
       "\t<li>-2.79</li>\n",
       "\t<li>-3.52</li>\n",
       "\t<li>-1.44</li>\n",
       "\t<li>-2.75</li>\n",
       "\t<li>2.79</li>\n",
       "\t<li>-3.13</li>\n",
       "\t<li>-2.85</li>\n",
       "\t<li>-3.81</li>\n",
       "\t<li>-3.1</li>\n",
       "\t<li>-3.69</li>\n",
       "\t<li>-3.77</li>\n",
       "\t<li>-2</li>\n",
       "\t<li>-3.86</li>\n",
       "\t<li>-3.68</li>\n",
       "\t<li>5.09</li>\n",
       "\t<li>-3.6</li>\n",
       "\t<li>-2.9</li>\n",
       "\t<li>-3.32</li>\n",
       "\t<li>-2.27</li>\n",
       "\t<li>-3.35</li>\n",
       "\t<li>-2.26</li>\n",
       "\t<li>-2.03</li>\n",
       "\t<li>-2.61</li>\n",
       "\t<li>2.3</li>\n",
       "\t<li>0.32</li>\n",
       "\t<li>-3.74</li>\n",
       "\t<li>-3.29</li>\n",
       "\t<li>-2.82</li>\n",
       "\t<li>-3.24</li>\n",
       "\t<li>-2.31</li>\n",
       "\t<li>-3.39</li>\n",
       "\t<li>0.35</li>\n",
       "\t<li>-2.34</li>\n",
       "\t<li>-3.67</li>\n",
       "\t<li>-0.59</li>\n",
       "\t<li>-1.64</li>\n",
       "\t<li>-3.33</li>\n",
       "\t<li>-2.82</li>\n",
       "\t<li>-3.84</li>\n",
       "\t<li>-3.43</li>\n",
       "\t<li>-2.92</li>\n",
       "\t<li>-2.79</li>\n",
       "\t<li>-2.38</li>\n",
       "\t<li>-1.37</li>\n",
       "\t<li>0.04</li>\n",
       "\t<li>0.98</li>\n",
       "\t<li>-2.93</li>\n",
       "\t<li>-2.92</li>\n",
       "\t<li>-2.64</li>\n",
       "\t<li>-3.82</li>\n",
       "\t<li>-2.29</li>\n",
       "\t<li>-2.27</li>\n",
       "\t<li>-3.54</li>\n",
       "\t<li>-3.49</li>\n",
       "\t<li>-3.2</li>\n",
       "\t<li>0.92</li>\n",
       "\t<li>-3.6</li>\n",
       "\t<li>-3.49</li>\n",
       "\t<li>-2.46</li>\n",
       "\t<li>-2.88</li>\n",
       "\t<li>-1.82</li>\n",
       "\t<li>-3.25</li>\n",
       "\t<li>-3.23</li>\n",
       "\t<li>-3.74</li>\n",
       "\t<li>-3.38</li>\n",
       "\t<li>-3.34</li>\n",
       "\t<li>-2.75</li>\n",
       "\t<li>-2.78</li>\n",
       "\t<li>9.02</li>\n",
       "\t<li>-3.41</li>\n",
       "\t<li>-2.76</li>\n",
       "\t<li>-2.04</li>\n",
       "\t<li>-2.64</li>\n",
       "\t<li>-1.2</li>\n",
       "\t<li>-0.46</li>\n",
       "\t<li>-3.47</li>\n",
       "\t<li>-1.84</li>\n",
       "\t<li>-3.28</li>\n",
       "\t<li>-2.98</li>\n",
       "\t<li>-0.97</li>\n",
       "\t<li>-3.18</li>\n",
       "\t<li>-3.49</li>\n",
       "\t<li>-3.59</li>\n",
       "\t<li>-2.14</li>\n",
       "\t<li>-3.28</li>\n",
       "\t<li>-3.43</li>\n",
       "\t<li>-3.41</li>\n",
       "\t<li>-3.21</li>\n",
       "\t<li>-2.14</li>\n",
       "\t<li>-3.8</li>\n",
       "\t<li>-3.77</li>\n",
       "\t<li>-0.9</li>\n",
       "\t<li>-3.44</li>\n",
       "\t<li>-1.83</li>\n",
       "\t<li>-3</li>\n",
       "\t<li>0.31</li>\n",
       "\t<li>-0.9</li>\n",
       "\t<li>-0.84</li>\n",
       "\t<li>-2.24</li>\n",
       "\t<li>-3.85</li>\n",
       "</ol>\n"
      ],
      "text/latex": [
       "\\begin{enumerate*}\n",
       "\\item -2.79\n",
       "\\item -3.52\n",
       "\\item -1.44\n",
       "\\item -2.75\n",
       "\\item 2.79\n",
       "\\item -3.13\n",
       "\\item -2.85\n",
       "\\item -3.81\n",
       "\\item -3.1\n",
       "\\item -3.69\n",
       "\\item -3.77\n",
       "\\item -2\n",
       "\\item -3.86\n",
       "\\item -3.68\n",
       "\\item 5.09\n",
       "\\item -3.6\n",
       "\\item -2.9\n",
       "\\item -3.32\n",
       "\\item -2.27\n",
       "\\item -3.35\n",
       "\\item -2.26\n",
       "\\item -2.03\n",
       "\\item -2.61\n",
       "\\item 2.3\n",
       "\\item 0.32\n",
       "\\item -3.74\n",
       "\\item -3.29\n",
       "\\item -2.82\n",
       "\\item -3.24\n",
       "\\item -2.31\n",
       "\\item -3.39\n",
       "\\item 0.35\n",
       "\\item -2.34\n",
       "\\item -3.67\n",
       "\\item -0.59\n",
       "\\item -1.64\n",
       "\\item -3.33\n",
       "\\item -2.82\n",
       "\\item -3.84\n",
       "\\item -3.43\n",
       "\\item -2.92\n",
       "\\item -2.79\n",
       "\\item -2.38\n",
       "\\item -1.37\n",
       "\\item 0.04\n",
       "\\item 0.98\n",
       "\\item -2.93\n",
       "\\item -2.92\n",
       "\\item -2.64\n",
       "\\item -3.82\n",
       "\\item -2.29\n",
       "\\item -2.27\n",
       "\\item -3.54\n",
       "\\item -3.49\n",
       "\\item -3.2\n",
       "\\item 0.92\n",
       "\\item -3.6\n",
       "\\item -3.49\n",
       "\\item -2.46\n",
       "\\item -2.88\n",
       "\\item -1.82\n",
       "\\item -3.25\n",
       "\\item -3.23\n",
       "\\item -3.74\n",
       "\\item -3.38\n",
       "\\item -3.34\n",
       "\\item -2.75\n",
       "\\item -2.78\n",
       "\\item 9.02\n",
       "\\item -3.41\n",
       "\\item -2.76\n",
       "\\item -2.04\n",
       "\\item -2.64\n",
       "\\item -1.2\n",
       "\\item -0.46\n",
       "\\item -3.47\n",
       "\\item -1.84\n",
       "\\item -3.28\n",
       "\\item -2.98\n",
       "\\item -0.97\n",
       "\\item -3.18\n",
       "\\item -3.49\n",
       "\\item -3.59\n",
       "\\item -2.14\n",
       "\\item -3.28\n",
       "\\item -3.43\n",
       "\\item -3.41\n",
       "\\item -3.21\n",
       "\\item -2.14\n",
       "\\item -3.8\n",
       "\\item -3.77\n",
       "\\item -0.9\n",
       "\\item -3.44\n",
       "\\item -1.83\n",
       "\\item -3\n",
       "\\item 0.31\n",
       "\\item -0.9\n",
       "\\item -0.84\n",
       "\\item -2.24\n",
       "\\item -3.85\n",
       "\\end{enumerate*}\n"
      ],
      "text/markdown": [
       "1. -2.79\n",
       "2. -3.52\n",
       "3. -1.44\n",
       "4. -2.75\n",
       "5. 2.79\n",
       "6. -3.13\n",
       "7. -2.85\n",
       "8. -3.81\n",
       "9. -3.1\n",
       "10. -3.69\n",
       "11. -3.77\n",
       "12. -2\n",
       "13. -3.86\n",
       "14. -3.68\n",
       "15. 5.09\n",
       "16. -3.6\n",
       "17. -2.9\n",
       "18. -3.32\n",
       "19. -2.27\n",
       "20. -3.35\n",
       "21. -2.26\n",
       "22. -2.03\n",
       "23. -2.61\n",
       "24. 2.3\n",
       "25. 0.32\n",
       "26. -3.74\n",
       "27. -3.29\n",
       "28. -2.82\n",
       "29. -3.24\n",
       "30. -2.31\n",
       "31. -3.39\n",
       "32. 0.35\n",
       "33. -2.34\n",
       "34. -3.67\n",
       "35. -0.59\n",
       "36. -1.64\n",
       "37. -3.33\n",
       "38. -2.82\n",
       "39. -3.84\n",
       "40. -3.43\n",
       "41. -2.92\n",
       "42. -2.79\n",
       "43. -2.38\n",
       "44. -1.37\n",
       "45. 0.04\n",
       "46. 0.98\n",
       "47. -2.93\n",
       "48. -2.92\n",
       "49. -2.64\n",
       "50. -3.82\n",
       "51. -2.29\n",
       "52. -2.27\n",
       "53. -3.54\n",
       "54. -3.49\n",
       "55. -3.2\n",
       "56. 0.92\n",
       "57. -3.6\n",
       "58. -3.49\n",
       "59. -2.46\n",
       "60. -2.88\n",
       "61. -1.82\n",
       "62. -3.25\n",
       "63. -3.23\n",
       "64. -3.74\n",
       "65. -3.38\n",
       "66. -3.34\n",
       "67. -2.75\n",
       "68. -2.78\n",
       "69. 9.02\n",
       "70. -3.41\n",
       "71. -2.76\n",
       "72. -2.04\n",
       "73. -2.64\n",
       "74. -1.2\n",
       "75. -0.46\n",
       "76. -3.47\n",
       "77. -1.84\n",
       "78. -3.28\n",
       "79. -2.98\n",
       "80. -0.97\n",
       "81. -3.18\n",
       "82. -3.49\n",
       "83. -3.59\n",
       "84. -2.14\n",
       "85. -3.28\n",
       "86. -3.43\n",
       "87. -3.41\n",
       "88. -3.21\n",
       "89. -2.14\n",
       "90. -3.8\n",
       "91. -3.77\n",
       "92. -0.9\n",
       "93. -3.44\n",
       "94. -1.83\n",
       "95. -3\n",
       "96. 0.31\n",
       "97. -0.9\n",
       "98. -0.84\n",
       "99. -2.24\n",
       "100. -3.85\n",
       "\n",
       "\n"
      ],
      "text/plain": [
       "  [1] -2.79 -3.52 -1.44 -2.75  2.79 -3.13 -2.85 -3.81 -3.10 -3.69 -3.77 -2.00\n",
       " [13] -3.86 -3.68  5.09 -3.60 -2.90 -3.32 -2.27 -3.35 -2.26 -2.03 -2.61  2.30\n",
       " [25]  0.32 -3.74 -3.29 -2.82 -3.24 -2.31 -3.39  0.35 -2.34 -3.67 -0.59 -1.64\n",
       " [37] -3.33 -2.82 -3.84 -3.43 -2.92 -2.79 -2.38 -1.37  0.04  0.98 -2.93 -2.92\n",
       " [49] -2.64 -3.82 -2.29 -2.27 -3.54 -3.49 -3.20  0.92 -3.60 -3.49 -2.46 -2.88\n",
       " [61] -1.82 -3.25 -3.23 -3.74 -3.38 -3.34 -2.75 -2.78  9.02 -3.41 -2.76 -2.04\n",
       " [73] -2.64 -1.20 -0.46 -3.47 -1.84 -3.28 -2.98 -0.97 -3.18 -3.49 -3.59 -2.14\n",
       " [85] -3.28 -3.43 -3.41 -3.21 -2.14 -3.80 -3.77 -0.90 -3.44 -1.83 -3.00  0.31\n",
       " [97] -0.90 -0.84 -2.24 -3.85"
      ]
     },
     "metadata": {},
     "output_type": "display_data"
    }
   ],
   "source": [
    "x = rnorm(100)\n",
    "x = exp(x)-4\n",
    "x = round(x,2)\n",
    "x"
   ]
  },
  {
   "cell_type": "code",
   "execution_count": 28,
   "id": "f48fc3c0",
   "metadata": {},
   "outputs": [
    {
     "data": {
      "image/png": "[encoded data removed]",
      "text/plain": [
       "plot without title"
      ]
     },
     "metadata": {},
     "output_type": "display_data"
    }
   ],
   "source": [
    "boxplot(x)"
   ]
  },
  {
   "cell_type": "code",
   "execution_count": 30,
   "id": "76ca0b26",
   "metadata": {},
   "outputs": [
    {
     "data": {
      "image/png": "[encoded data removed]",
      "text/plain": [
       "plot without title"
      ]
     },
     "metadata": {},
     "output_type": "display_data"
    }
   ],
   "source": [
    "boxplot(log(x^2+4))"
   ]
  },
  {
   "cell_type": "markdown",
   "id": "c8bedab4",
   "metadata": {},
   "source": [
    "<h4> Zadanie9"
   ]
  },
  {
   "cell_type": "code",
   "execution_count": 31,
   "id": "b65f5a23",
   "metadata": {},
   "outputs": [
    {
     "data": {
      "text/html": [
       "<table>\n",
       "<thead><tr><th scope=col>NfkB</th><th scope=col>CD28</th><th scope=col>IFN</th><th scope=col>Dikeos.manic</th><th scope=col>Dikeos.reality.distortion</th><th scope=col>Dikeos.depression</th><th scope=col>Dikeos.disorganization</th><th scope=col>Dikeos.negative</th><th scope=col>Dikeos.sum</th></tr></thead>\n",
       "<tbody>\n",
       "\t<tr><td>AG   </td><td>TT   </td><td>TT+AA</td><td>3    </td><td>19   </td><td>12   </td><td>42   </td><td>2    </td><td> 78  </td></tr>\n",
       "\t<tr><td>AG   </td><td>TC+CC</td><td>AT   </td><td>5    </td><td>29   </td><td>16   </td><td>46   </td><td>0    </td><td> 96  </td></tr>\n",
       "\t<tr><td>GG   </td><td>TT   </td><td>AT   </td><td>7    </td><td>25   </td><td>11   </td><td>41   </td><td>0    </td><td> 84  </td></tr>\n",
       "\t<tr><td>AG   </td><td>TT   </td><td>TT+AA</td><td>8    </td><td>27   </td><td>13   </td><td>59   </td><td>3    </td><td>110  </td></tr>\n",
       "\t<tr><td>GG   </td><td>TT   </td><td>AT   </td><td>3    </td><td>24   </td><td>13   </td><td>41   </td><td>2    </td><td> 83  </td></tr>\n",
       "\t<tr><td>GG   </td><td>TT   </td><td>AT   </td><td>6    </td><td>26   </td><td>13   </td><td>43   </td><td>2    </td><td> 90  </td></tr>\n",
       "</tbody>\n",
       "</table>\n"
      ],
      "text/latex": [
       "\\begin{tabular}{r|lllllllll}\n",
       " NfkB & CD28 & IFN & Dikeos.manic & Dikeos.reality.distortion & Dikeos.depression & Dikeos.disorganization & Dikeos.negative & Dikeos.sum\\\\\n",
       "\\hline\n",
       "\t AG    & TT    & TT+AA & 3     & 19    & 12    & 42    & 2     &  78  \\\\\n",
       "\t AG    & TC+CC & AT    & 5     & 29    & 16    & 46    & 0     &  96  \\\\\n",
       "\t GG    & TT    & AT    & 7     & 25    & 11    & 41    & 0     &  84  \\\\\n",
       "\t AG    & TT    & TT+AA & 8     & 27    & 13    & 59    & 3     & 110  \\\\\n",
       "\t GG    & TT    & AT    & 3     & 24    & 13    & 41    & 2     &  83  \\\\\n",
       "\t GG    & TT    & AT    & 6     & 26    & 13    & 43    & 2     &  90  \\\\\n",
       "\\end{tabular}\n"
      ],
      "text/markdown": [
       "\n",
       "| NfkB | CD28 | IFN | Dikeos.manic | Dikeos.reality.distortion | Dikeos.depression | Dikeos.disorganization | Dikeos.negative | Dikeos.sum |\n",
       "|---|---|---|---|---|---|---|---|---|\n",
       "| AG    | TT    | TT+AA | 3     | 19    | 12    | 42    | 2     |  78   |\n",
       "| AG    | TC+CC | AT    | 5     | 29    | 16    | 46    | 0     |  96   |\n",
       "| GG    | TT    | AT    | 7     | 25    | 11    | 41    | 0     |  84   |\n",
       "| AG    | TT    | TT+AA | 8     | 27    | 13    | 59    | 3     | 110   |\n",
       "| GG    | TT    | AT    | 3     | 24    | 13    | 41    | 2     |  83   |\n",
       "| GG    | TT    | AT    | 6     | 26    | 13    | 43    | 2     |  90   |\n",
       "\n"
      ],
      "text/plain": [
       "  NfkB CD28  IFN   Dikeos.manic Dikeos.reality.distortion Dikeos.depression\n",
       "1 AG   TT    TT+AA 3            19                        12               \n",
       "2 AG   TC+CC AT    5            29                        16               \n",
       "3 GG   TT    AT    7            25                        11               \n",
       "4 AG   TT    TT+AA 8            27                        13               \n",
       "5 GG   TT    AT    3            24                        13               \n",
       "6 GG   TT    AT    6            26                        13               \n",
       "  Dikeos.disorganization Dikeos.negative Dikeos.sum\n",
       "1 42                     2                78       \n",
       "2 46                     0                96       \n",
       "3 41                     0                84       \n",
       "4 59                     3               110       \n",
       "5 41                     2                83       \n",
       "6 43                     2                90       "
      ]
     },
     "metadata": {},
     "output_type": "display_data"
    }
   ],
   "source": [
    "dane = read.table(\"schizofrenia.txt\", header = TRUE)\n",
    "head(dane)"
   ]
  },
  {
   "cell_type": "code",
   "execution_count": 32,
   "id": "5f1b9d8a",
   "metadata": {},
   "outputs": [
    {
     "data": {
      "text/html": [
       "<ol class=list-inline>\n",
       "\t<li>98</li>\n",
       "\t<li>9</li>\n",
       "</ol>\n"
      ],
      "text/latex": [
       "\\begin{enumerate*}\n",
       "\\item 98\n",
       "\\item 9\n",
       "\\end{enumerate*}\n"
      ],
      "text/markdown": [
       "1. 98\n",
       "2. 9\n",
       "\n",
       "\n"
      ],
      "text/plain": [
       "[1] 98  9"
      ]
     },
     "metadata": {},
     "output_type": "display_data"
    }
   ],
   "source": [
    "dim(dane)"
   ]
  },
  {
   "cell_type": "code",
   "execution_count": 33,
   "id": "d5c65ff6",
   "metadata": {},
   "outputs": [
    {
     "data": {
      "text/plain": [
       " NfkB       CD28       IFN      Dikeos.manic    Dikeos.reality.distortion\n",
       " AA:37   TC+CC:33   AT   :53   Min.   : 0.000   Min.   :10.00            \n",
       " AG:43   TT   :65   TT+AA:45   1st Qu.: 4.000   1st Qu.:24.00            \n",
       " GG:18                         Median : 6.000   Median :26.50            \n",
       "                               Mean   : 5.847   Mean   :24.91            \n",
       "                               3rd Qu.: 8.000   3rd Qu.:28.00            \n",
       "                               Max.   :13.000   Max.   :31.00            \n",
       " Dikeos.depression Dikeos.disorganization Dikeos.negative   Dikeos.sum    \n",
       " Min.   : 2.00     Min.   : 2.00          Min.   :0.000   Min.   : 22.00  \n",
       " 1st Qu.: 9.00     1st Qu.:26.00          1st Qu.:2.000   1st Qu.: 72.00  \n",
       " Median :12.50     Median :41.00          Median :2.000   Median : 82.50  \n",
       " Mean   :12.29     Mean   :39.19          Mean   :2.633   Mean   : 84.87  \n",
       " 3rd Qu.:16.00     3rd Qu.:52.50          3rd Qu.:4.000   3rd Qu.:102.75  \n",
       " Max.   :19.00     Max.   :75.00          Max.   :8.000   Max.   :128.00  "
      ]
     },
     "metadata": {},
     "output_type": "display_data"
    }
   ],
   "source": [
    "summary(dane)"
   ]
  },
  {
   "cell_type": "code",
   "execution_count": 34,
   "id": "2dc19f44",
   "metadata": {},
   "outputs": [
    {
     "data": {
      "text/html": [
       "<ol class=list-inline>\n",
       "\t<li>22</li>\n",
       "\t<li>128</li>\n",
       "</ol>\n"
      ],
      "text/latex": [
       "\\begin{enumerate*}\n",
       "\\item 22\n",
       "\\item 128\n",
       "\\end{enumerate*}\n"
      ],
      "text/markdown": [
       "1. 22\n",
       "2. 128\n",
       "\n",
       "\n"
      ],
      "text/plain": [
       "[1]  22 128"
      ]
     },
     "metadata": {},
     "output_type": "display_data"
    }
   ],
   "source": [
    "with(dane, range(Dikeos.sum))"
   ]
  },
  {
   "cell_type": "code",
   "execution_count": 35,
   "id": "03935965",
   "metadata": {},
   "outputs": [
    {
     "data": {
      "text/plain": [
       "\n",
       "\tShapiro-Wilk normality test\n",
       "\n",
       "data:  Dikeos.sum\n",
       "W = 0.98347, p-value = 0.2573\n"
      ]
     },
     "metadata": {},
     "output_type": "display_data"
    }
   ],
   "source": [
    "with(dane, shapiro.test(Dikeos.sum))"
   ]
  },
  {
   "cell_type": "code",
   "execution_count": 36,
   "id": "db3bae29",
   "metadata": {},
   "outputs": [
    {
     "data": {
      "text/html": [
       "84.8673469387755"
      ],
      "text/latex": [
       "84.8673469387755"
      ],
      "text/markdown": [
       "84.8673469387755"
      ],
      "text/plain": [
       "[1] 84.86735"
      ]
     },
     "metadata": {},
     "output_type": "display_data"
    },
    {
     "data": {
      "text/html": [
       "20.7685516398857"
      ],
      "text/latex": [
       "20.7685516398857"
      ],
      "text/markdown": [
       "20.7685516398857"
      ],
      "text/plain": [
       "[1] 20.76855"
      ]
     },
     "metadata": {},
     "output_type": "display_data"
    }
   ],
   "source": [
    "mu = mean(dane$Dikeos.sum)\n",
    "sigma = sd(dane$Dikeos.sum)\n",
    "mu; sigma"
   ]
  },
  {
   "cell_type": "code",
   "execution_count": 37,
   "id": "e8d09255",
   "metadata": {},
   "outputs": [
    {
     "data": {
      "image/png": "[encoded data removed]",
      "text/plain": [
       "plot without title"
      ]
     },
     "metadata": {},
     "output_type": "display_data"
    }
   ],
   "source": [
    "options(repr.plot.width=6, repr.plot.height=4)\n",
    "par(mfrow = c(1, 2))\n",
    "with(dane,  interaction.plot(CD28, NfkB, Dikeos.sum, lwd = 2))\n",
    "with(dane, interaction.plot(NfkB, CD28, Dikeos.sum, lwd = 2))"
   ]
  },
  {
   "cell_type": "code",
   "execution_count": 38,
   "id": "5718b451",
   "metadata": {},
   "outputs": [
    {
     "data": {
      "text/plain": [
       "\n",
       "Call:\n",
       "lm(formula = Dikeos.sum ~ NfkB + CD28, data = dane)\n",
       "\n",
       "Residuals:\n",
       "    Min      1Q  Median      3Q     Max \n",
       "-53.581  -8.338   2.094   8.395  38.948 \n",
       "\n",
       "Coefficients:\n",
       "            Estimate Std. Error t value Pr(>|t|)    \n",
       "(Intercept)  69.8265     3.0185  23.133  < 2e-16 ***\n",
       "NfkBAG       31.1582     3.3578   9.279 6.26e-15 ***\n",
       "NfkBGG        5.7549     4.4170   1.303    0.196    \n",
       "CD28TT        0.4709     3.2860   0.143    0.886    \n",
       "---\n",
       "Signif. codes:  0 '***' 0.001 '**' 0.01 '*' 0.05 '.' 0.1 ' ' 1\n",
       "\n",
       "Residual standard error: 14.85 on 94 degrees of freedom\n",
       "Multiple R-squared:  0.5049,\tAdjusted R-squared:  0.4891 \n",
       "F-statistic: 31.95 on 3 and 94 DF,  p-value: 2.507e-14\n"
      ]
     },
     "metadata": {},
     "output_type": "display_data"
    }
   ],
   "source": [
    "modelbezI = lm(Dikeos.sum~NfkB+CD28, data = dane)\n",
    "summary(modelbezI)"
   ]
  },
  {
   "cell_type": "code",
   "execution_count": 43,
   "id": "477473fd",
   "metadata": {},
   "outputs": [
    {
     "data": {
      "text/plain": [
       "\n",
       "Call:\n",
       "lm(formula = Dikeos.sum ~ NfkB * CD28, data = dane)\n",
       "\n",
       "Residuals:\n",
       "    Min      1Q  Median      3Q     Max \n",
       "-34.552  -6.342   1.367   8.102  33.625 \n",
       "\n",
       "Coefficients:\n",
       "              Estimate Std. Error t value Pr(>|t|)    \n",
       "(Intercept)     76.706      3.101  24.735  < 2e-16 ***\n",
       "NfkBAG          22.008      4.615   4.769 6.91e-06 ***\n",
       "NfkBGG         -43.706      9.558  -4.573 1.50e-05 ***\n",
       "CD28TT         -12.256      4.218  -2.906  0.00459 ** \n",
       "NfkBAG:CD28TT   16.093      5.925   2.716  0.00789 ** \n",
       "NfkBGG:CD28TT   60.631     10.476   5.788 9.80e-08 ***\n",
       "---\n",
       "Signif. codes:  0 '***' 0.001 '**' 0.01 '*' 0.05 '.' 0.1 ' ' 1\n",
       "\n",
       "Residual standard error: 12.79 on 92 degrees of freedom\n",
       "Multiple R-squared:  0.6405,\tAdjusted R-squared:  0.621 \n",
       "F-statistic: 32.79 on 5 and 92 DF,  p-value: < 2.2e-16\n"
      ]
     },
     "metadata": {},
     "output_type": "display_data"
    }
   ],
   "source": [
    "modelzI = lm(Dikeos.sum~NfkB*CD28, data = dane)   \n",
    "summary(modelzI)"
   ]
  },
  {
   "cell_type": "code",
   "execution_count": 44,
   "id": "60391b48",
   "metadata": {},
   "outputs": [
    {
     "name": "stdout",
     "output_type": "stream",
     "text": [
      "Analysis of Variance Table\n",
      "\n",
      "Model 1: Dikeos.sum ~ NfkB + CD28\n",
      "Model 2: Dikeos.sum ~ NfkB * CD28\n",
      "  Res.Df   RSS Df Sum of Sq      F    Pr(>F)    \n",
      "1     94 20715                                  \n",
      "2     92 15040  2      5675 17.357 4.021e-07 ***\n",
      "---\n",
      "Signif. codes:  0 '***' 0.001 '**' 0.01 '*' 0.05 '.' 0.1 ' ' 1\n"
     ]
    }
   ],
   "source": [
    "print(anova(modelbezI, modelzI))"
   ]
  },
  {
   "cell_type": "code",
   "execution_count": 47,
   "id": "80e6a244",
   "metadata": {},
   "outputs": [
    {
     "data": {
      "text/plain": [
       "ostatni\n",
       "     2      3      4      5      6 \n",
       "0.2073 0.2003 0.1995 0.2014 0.1915 "
      ]
     },
     "metadata": {},
     "output_type": "display_data"
    }
   ],
   "source": [
    "#jeszcze zadanko z cukierkami\n",
    "\n",
    "x = list(c(2,6),c(1,3),c(2,4),c(3,5),c(4,6),c(5,1))\n",
    "\n",
    "\n",
    "ostatni = c()\n",
    "\n",
    "for (i in 1:10000){\n",
    "\n",
    "N = 1\n",
    "elementy = c(1)\n",
    "while (length(elementy) < 6){\n",
    "       losowa = sample(c(1,2),1)\n",
    "       losowa2 = x[[N]][losowa]\n",
    "       N = losowa2\n",
    "       if (losowa2 %in% elementy){}\n",
    "       else { elementy = append(elementy, losowa2)}\n",
    "\n",
    "}\n",
    "\n",
    "ostatni = append(ostatni, N)\n",
    "\n",
    "}\n",
    "\n",
    "table(ostatni)/10000"
   ]
  },
  {
   "cell_type": "markdown",
   "id": "07600a23",
   "metadata": {},
   "source": [
    "<h4> Metody Monte Carlo"
   ]
  },
  {
   "cell_type": "code",
   "execution_count": 53,
   "id": "780a2cfb",
   "metadata": {},
   "outputs": [
    {
     "data": {
      "text/html": [
       "3.22"
      ],
      "text/latex": [
       "3.22"
      ],
      "text/markdown": [
       "3.22"
      ],
      "text/plain": [
       "[1] 3.22"
      ]
     },
     "metadata": {},
     "output_type": "display_data"
    },
    {
     "data": {
      "image/png": "[encoded data removed]",
      "text/plain": [
       "plot without title"
      ]
     },
     "metadata": {},
     "output_type": "display_data"
    }
   ],
   "source": [
    "#szacowanie liczby pi\n",
    "\n",
    "N = 1000\n",
    "x1 = runif(N, -1,1)\n",
    "x2 = runif(N, -1, 1)\n",
    "\n",
    "options(repr.plot.width=4, repr.plot.height=4)\n",
    "\n",
    "plot(x1,x2)\n",
    "lines(x1[x1^2+x2^2<1],x2[x1^2+x2^2<1], col = \"red\", type=\"p\")\n",
    "\n",
    "4*length(x1[x1^2+x2^2<1])/N"
   ]
  },
  {
   "cell_type": "code",
   "execution_count": 54,
   "id": "5f0ce16d",
   "metadata": {},
   "outputs": [
    {
     "data": {
      "text/html": [
       "3.1408532"
      ],
      "text/latex": [
       "3.1408532"
      ],
      "text/markdown": [
       "3.1408532"
      ],
      "text/plain": [
       "[1] 3.140853"
      ]
     },
     "metadata": {},
     "output_type": "display_data"
    },
    {
     "data": {
      "text/html": [
       "0.0522669879901584"
      ],
      "text/latex": [
       "0.0522669879901584"
      ],
      "text/markdown": [
       "0.0522669879901584"
      ],
      "text/plain": [
       "[1] 0.05226699"
      ]
     },
     "metadata": {},
     "output_type": "display_data"
    }
   ],
   "source": [
    "#szacowanie liczby pi\n",
    "\n",
    "ile_pi = c()\n",
    "N1 = 10000\n",
    "N = 1000\n",
    "for (i in 1:N1){\n",
    "    x1 = runif(N, -1,1)\n",
    "    x2 = runif(N, -1, 1)\n",
    "    ile_pi = append(ile_pi, 4*length(x1[x1^2+x2^2<1])/N)\n",
    "}\n",
    "\n",
    "mean(ile_pi); sd(ile_pi)"
   ]
  },
  {
   "cell_type": "markdown",
   "id": "6bbc68f1",
   "metadata": {},
   "source": [
    "Przykład na podstawie: http://keii.ue.wroc.pl/pracownicy/tb/Bart%C5%82omowicz%20T.%20%5B2011%5D,%20Symulacja%20Monte%20Carlo%20jako%20narz%C4%99dzie%20prognozowania%20wybranych%20aspekt%C3%B3w%20rynku%20nieruchomo%C5%9Bci,%20W%20Pociecha%20J.%20(red.)%20Modelowanie%20i%20prognozowanie%20zjawisk...,%20UE%20Krak%C3%B3w.pdf\n",
    "\n",
    "ksiązka z BJ UJ"
   ]
  },
  {
   "cell_type": "code",
   "execution_count": 55,
   "id": "ebff87a9",
   "metadata": {},
   "outputs": [
    {
     "data": {
      "image/png": "[encoded data removed]",
      "text/plain": [
       "Plot with title \"Histogram of Y\""
      ]
     },
     "metadata": {},
     "output_type": "display_data"
    }
   ],
   "source": [
    "N = 100000\n",
    "X1 = rnorm(N, 6, 1)\n",
    "X2 = runif(N, 0, 22)\n",
    "X3 = sample(c(0,1,2,3,4), N, replace =TRUE)\n",
    "X4 = sample(c(1,2), N, replace =TRUE, prob = c(0.3, 0.7))\n",
    "\n",
    "Y = 16.437 + 0.003*X1 -1.554*X2+9.919*X3+14.055*X4+rnorm(N)\n",
    "hist(Y)"
   ]
  },
  {
   "cell_type": "code",
   "execution_count": 56,
   "id": "330e7839",
   "metadata": {},
   "outputs": [
    {
     "data": {
      "text/html": [
       "42.9787043456509"
      ],
      "text/latex": [
       "42.9787043456509"
      ],
      "text/markdown": [
       "42.9787043456509"
      ],
      "text/plain": [
       "[1] 42.9787"
      ]
     },
     "metadata": {},
     "output_type": "display_data"
    },
    {
     "data": {
      "text/html": [
       "18.3446282638657"
      ],
      "text/latex": [
       "18.3446282638657"
      ],
      "text/markdown": [
       "18.3446282638657"
      ],
      "text/plain": [
       "[1] 18.34463"
      ]
     },
     "metadata": {},
     "output_type": "display_data"
    }
   ],
   "source": [
    "mean(Y); sd(Y)"
   ]
  },
  {
   "cell_type": "markdown",
   "id": "a59022fd",
   "metadata": {},
   "source": [
    "<h4> Ile wynosi prp ze miedzy 35 a 45?"
   ]
  },
  {
   "cell_type": "code",
   "execution_count": 58,
   "id": "e736decb",
   "metadata": {},
   "outputs": [
    {
     "data": {
      "text/html": [
       "0.20198"
      ],
      "text/latex": [
       "0.20198"
      ],
      "text/markdown": [
       "0.20198"
      ],
      "text/plain": [
       "[1] 0.20198"
      ]
     },
     "metadata": {},
     "output_type": "display_data"
    }
   ],
   "source": [
    "length(Y[Y<45 & Y>35])/N"
   ]
  },
  {
   "cell_type": "markdown",
   "id": "70547b9a",
   "metadata": {},
   "source": [
    "Zadanie: Dana jest zmienna losowa $Y = \\sin(X_1)\\cdot \\cos(X_2)$, gdzie $X_1 \\sim N(2,1)$ oraz $X_2 \\sim Unif([-1,1])$. Wyznacz przybliżone wartości $EY$, $D^2Y$ oraz $P(Y>0)$."
   ]
  },
  {
   "cell_type": "markdown",
   "id": "e4ee32ba",
   "metadata": {},
   "source": [
    "<h4> Paradoks Steina"
   ]
  },
  {
   "cell_type": "markdown",
   "id": "286c8609",
   "metadata": {},
   "source": [
    "https://vielhuber.de/pl/blog/paradoks-steinsa/"
   ]
  },
  {
   "cell_type": "code",
   "execution_count": 45,
   "id": "2e63ed40",
   "metadata": {},
   "outputs": [],
   "source": [
    "blad_zwykly = c()\n",
    "blad_steina = c()\n",
    "\n",
    "for (i in 1:1000){\n",
    "    x1 = rnorm(1, 2, 1)\n",
    "    x2 = rnorm(1, 5, 1)\n",
    "    x3 = rnorm(1, -3, 1)\n",
    "    \n",
    "    bz = sqrt(((x1-2)**2+(x2-5)**2+(x3+3)**2)/3)\n",
    "    blad_zwykly = append(blad_zwykly, bz)\n",
    "    \n",
    "    cn = 1 - 1/(x1**2+x2**2+x3**2) #czynnik normalizujacy\n",
    "    bs = sqrt(((cn*x1-2)**2+(cn*x2-5)**2+(cn*x3+3)**2)/3)\n",
    "    blad_steina = append(blad_steina, bs)\n",
    "}\n"
   ]
  },
  {
   "cell_type": "code",
   "execution_count": 46,
   "id": "74bfcd87",
   "metadata": {},
   "outputs": [
    {
     "data": {
      "text/html": [
       "0.920430359576657"
      ],
      "text/latex": [
       "0.920430359576657"
      ],
      "text/markdown": [
       "0.920430359576657"
      ],
      "text/plain": [
       "[1] 0.9204304"
      ]
     },
     "metadata": {},
     "output_type": "display_data"
    },
    {
     "data": {
      "text/html": [
       "0.916609248344415"
      ],
      "text/latex": [
       "0.916609248344415"
      ],
      "text/markdown": [
       "0.916609248344415"
      ],
      "text/plain": [
       "[1] 0.9166092"
      ]
     },
     "metadata": {},
     "output_type": "display_data"
    }
   ],
   "source": [
    "mean(blad_zwykly); mean(blad_steina)"
   ]
  },
  {
   "cell_type": "markdown",
   "id": "a3463bd0",
   "metadata": {},
   "source": [
    "<h4> Paradoks Simpsona"
   ]
  },
  {
   "cell_type": "markdown",
   "id": "149e148d",
   "metadata": {},
   "source": [
    "https://upload.wikimedia.org/wikipedia/commons/f/fb/Simpsons_paradox_-_animation.gif"
   ]
  },
  {
   "cell_type": "markdown",
   "id": "60793612",
   "metadata": {},
   "source": [
    "https://en.wikipedia.org/wiki/Simpson%27s_paradox        Berkley US"
   ]
  }
 ],
 "metadata": {
  "kernelspec": {
   "display_name": "R",
   "language": "R",
   "name": "ir"
  },
  "language_info": {
   "codemirror_mode": "r",
   "file_extension": ".r",
   "mimetype": "text/x-r-source",
   "name": "R",
   "pygments_lexer": "r",
   "version": "3.6.1"
  }
 },
 "nbformat": 4,
 "nbformat_minor": 5
}
